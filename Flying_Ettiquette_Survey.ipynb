{
 "cells": [
  {
   "cell_type": "code",
   "execution_count": 1,
   "id": "6adbe6ff-4ba3-47ac-9dd9-f5bbd616c6a3",
   "metadata": {},
   "outputs": [],
   "source": [
    "import pandas as pd\n",
    "import seaborn as sns\n",
    "import matplotlib.pyplot as plt"
   ]
  },
  {
   "cell_type": "markdown",
   "id": "641b8aaf-ddf5-4106-ad94-34cd35f47a57",
   "metadata": {},
   "source": [
    "# PHASE 1: Ingesting the dataset"
   ]
  },
  {
   "cell_type": "code",
   "execution_count": 2,
   "id": "0f11ee2e-9a5c-42e2-bc8e-2a6fdfc30cac",
   "metadata": {},
   "outputs": [
    {
     "data": {
      "text/html": [
       "<div>\n",
       "<style scoped>\n",
       "    .dataframe tbody tr th:only-of-type {\n",
       "        vertical-align: middle;\n",
       "    }\n",
       "\n",
       "    .dataframe tbody tr th {\n",
       "        vertical-align: top;\n",
       "    }\n",
       "\n",
       "    .dataframe thead th {\n",
       "        text-align: right;\n",
       "    }\n",
       "</style>\n",
       "<table border=\"1\" class=\"dataframe\">\n",
       "  <thead>\n",
       "    <tr style=\"text-align: right;\">\n",
       "      <th></th>\n",
       "      <th>RespondentID</th>\n",
       "      <th>How often do you travel by plane?</th>\n",
       "      <th>Do you ever recline your seat when you fly?</th>\n",
       "      <th>How tall are you?</th>\n",
       "      <th>Do you have any children under 18?</th>\n",
       "      <th>In a row of three seats, who should get to use the two arm rests?</th>\n",
       "      <th>In a row of two seats, who should get to use the middle arm rest?</th>\n",
       "      <th>Who should have control over the window shade?</th>\n",
       "      <th>Is itrude to move to an unsold seat on a plane?</th>\n",
       "      <th>Generally speaking, is it rude to say more than a few words tothe stranger sitting next to you on a plane?</th>\n",
       "      <th>...</th>\n",
       "      <th>Is itrude to wake a passenger up if you are trying to walk around?</th>\n",
       "      <th>In general, is itrude to bring a baby on a plane?</th>\n",
       "      <th>In general, is it rude to knowingly bring unruly children on a plane?</th>\n",
       "      <th>Have you ever used personal electronics during take off or landing in violation of a flight attendant's direction?</th>\n",
       "      <th>Have you ever smoked a cigarette in an airplane bathroom when it was against the rules?</th>\n",
       "      <th>Gender</th>\n",
       "      <th>Age</th>\n",
       "      <th>Household Income</th>\n",
       "      <th>Education</th>\n",
       "      <th>Location (Census Region)</th>\n",
       "    </tr>\n",
       "  </thead>\n",
       "  <tbody>\n",
       "    <tr>\n",
       "      <th>0</th>\n",
       "      <td>3436139758</td>\n",
       "      <td>Once a year or less</td>\n",
       "      <td>NaN</td>\n",
       "      <td>NaN</td>\n",
       "      <td>NaN</td>\n",
       "      <td>NaN</td>\n",
       "      <td>NaN</td>\n",
       "      <td>NaN</td>\n",
       "      <td>NaN</td>\n",
       "      <td>NaN</td>\n",
       "      <td>...</td>\n",
       "      <td>NaN</td>\n",
       "      <td>NaN</td>\n",
       "      <td>NaN</td>\n",
       "      <td>NaN</td>\n",
       "      <td>NaN</td>\n",
       "      <td>NaN</td>\n",
       "      <td>NaN</td>\n",
       "      <td>NaN</td>\n",
       "      <td>NaN</td>\n",
       "      <td>NaN</td>\n",
       "    </tr>\n",
       "  </tbody>\n",
       "</table>\n",
       "<p>1 rows × 27 columns</p>\n",
       "</div>"
      ],
      "text/plain": [
       "   RespondentID How often do you travel by plane?  \\\n",
       "0    3436139758               Once a year or less   \n",
       "\n",
       "  Do you ever recline your seat when you fly? How tall are you?  \\\n",
       "0                                         NaN               NaN   \n",
       "\n",
       "  Do you have any children under 18?  \\\n",
       "0                                NaN   \n",
       "\n",
       "  In a row of three seats, who should get to use the two arm rests?  \\\n",
       "0                                                NaN                  \n",
       "\n",
       "  In a row of two seats, who should get to use the middle arm rest?  \\\n",
       "0                                                NaN                  \n",
       "\n",
       "  Who should have control over the window shade?  \\\n",
       "0                                            NaN   \n",
       "\n",
       "  Is itrude to move to an unsold seat on a plane?  \\\n",
       "0                                             NaN   \n",
       "\n",
       "  Generally speaking, is it rude to say more than a few words tothe stranger sitting next to you on a plane?  \\\n",
       "0                                                NaN                                                           \n",
       "\n",
       "   ... Is itrude to wake a passenger up if you are trying to walk around?  \\\n",
       "0  ...                                                NaN                   \n",
       "\n",
       "  In general, is itrude to bring a baby on a plane?  \\\n",
       "0                                               NaN   \n",
       "\n",
       "  In general, is it rude to knowingly bring unruly children on a plane?  \\\n",
       "0                                                NaN                      \n",
       "\n",
       "  Have you ever used personal electronics during take off or landing in violation of a flight attendant's direction?  \\\n",
       "0                                                NaN                                                                   \n",
       "\n",
       "  Have you ever smoked a cigarette in an airplane bathroom when it was against the rules?  \\\n",
       "0                                                NaN                                        \n",
       "\n",
       "  Gender  Age Household Income Education Location (Census Region)  \n",
       "0    NaN  NaN              NaN       NaN                      NaN  \n",
       "\n",
       "[1 rows x 27 columns]"
      ]
     },
     "execution_count": 2,
     "metadata": {},
     "output_type": "execute_result"
    }
   ],
   "source": [
    "df = pd.read_csv(r'C:\\Users\\bsila\\Dexian_Bootcamp\\code\\DataPyLabExercise\\EDA_files\\flying-etiquette.csv')\n",
    "df.head(1)"
   ]
  },
  {
   "cell_type": "code",
   "execution_count": 3,
   "id": "89bd6c20-b252-4868-8fd1-1ec62e312c76",
   "metadata": {},
   "outputs": [
    {
     "name": "stdout",
     "output_type": "stream",
     "text": [
      "<class 'pandas.core.frame.DataFrame'>\n",
      "RangeIndex: 1040 entries, 0 to 1039\n",
      "Data columns (total 27 columns):\n",
      " #   Column                                                                                                                                    Non-Null Count  Dtype \n",
      "---  ------                                                                                                                                    --------------  ----- \n",
      " 0   RespondentID                                                                                                                              1040 non-null   int64 \n",
      " 1   How often do you travel by plane?                                                                                                         1040 non-null   object\n",
      " 2   Do you ever recline your seat when you fly?                                                                                               858 non-null    object\n",
      " 3   How tall are you?                                                                                                                         858 non-null    object\n",
      " 4   Do you have any children under 18?                                                                                                        851 non-null    object\n",
      " 5   In a row of three seats, who should get to use the two arm rests?                                                                         856 non-null    object\n",
      " 6   In a row of two seats, who should get to use the middle arm rest?                                                                         856 non-null    object\n",
      " 7   Who should have control over the window shade?                                                                                            856 non-null    object\n",
      " 8   Is itrude to move to an unsold seat on a plane?                                                                                           855 non-null    object\n",
      " 9   Generally speaking, is it rude to say more than a few words tothe stranger sitting next to you on a plane?                                855 non-null    object\n",
      " 10  On a 6 hour flight from NYC to LA, how many times is it acceptable to get up if you're not in an aisle seat?                              855 non-null    object\n",
      " 11  Under normal circumstances, does a person who reclines their seat during a flight have any obligation to the person sitting behind them?  854 non-null    object\n",
      " 12  Is itrude to recline your seat on a plane?                                                                                                854 non-null    object\n",
      " 13  Given the opportunity, would you eliminate the possibility of reclining seats on planes entirely?                                         854 non-null    object\n",
      " 14  Is it rude to ask someone to switch seats with you in order to be closer to friends?                                                      850 non-null    object\n",
      " 15  Is itrude to ask someone to switch seats with you in order to be closer to family?                                                        850 non-null    object\n",
      " 16  Is it rude to wake a passenger up if you are trying to go to the bathroom?                                                                850 non-null    object\n",
      " 17  Is itrude to wake a passenger up if you are trying to walk around?                                                                        850 non-null    object\n",
      " 18  In general, is itrude to bring a baby on a plane?                                                                                         849 non-null    object\n",
      " 19  In general, is it rude to knowingly bring unruly children on a plane?                                                                     849 non-null    object\n",
      " 20  Have you ever used personal electronics during take off or landing in violation of a flight attendant's direction?                        849 non-null    object\n",
      " 21  Have you ever smoked a cigarette in an airplane bathroom when it was against the rules?                                                   849 non-null    object\n",
      " 22  Gender                                                                                                                                    1007 non-null   object\n",
      " 23  Age                                                                                                                                       1007 non-null   object\n",
      " 24  Household Income                                                                                                                          826 non-null    object\n",
      " 25  Education                                                                                                                                 1001 non-null   object\n",
      " 26  Location (Census Region)                                                                                                                  998 non-null    object\n",
      "dtypes: int64(1), object(26)\n",
      "memory usage: 219.5+ KB\n"
     ]
    }
   ],
   "source": [
    "df.info()"
   ]
  },
  {
   "cell_type": "markdown",
   "id": "a0ea52c0-e026-4b3c-abc2-960eaf9fc490",
   "metadata": {},
   "source": [
    "# PHASE 2: Preparing your data"
   ]
  },
  {
   "cell_type": "code",
   "execution_count": 4,
   "id": "f668e59a-9be7-4bf5-b1cf-101846fef2d9",
   "metadata": {},
   "outputs": [],
   "source": [
    "#Renaming columns\n",
    "df.rename(columns={'How often do you travel by plane?':'Plane Travel Frequency', 'Do you ever recline your seat when you fly?':'Recline your seat', \n",
    "                         'How tall are you?':'Height info', 'Do you have any children under 18?':'Children under 18', \n",
    "                         'In a row of three seats, who should get to use the two arm rests?':'3rowseat-armrest', \n",
    "                         'Who should have control over the window shade?':'window-shade-control', \n",
    "                         'Is itrude to move to an unsold seat on a plane?':'rude-to-move-to-unsold-seat', \n",
    "                         'Generally speaking, is it rude to say more than a few words tothe stranger sitting next to you on a plane?':'rude-to-speak-to-strangers', \n",
    "                         \"On a 6 hour flight from NYC to LA, how many times is it acceptable to get up if you're not in an aisle seat?\":'getup-not-in-aisle-seat',\n",
    "                         'Under normal circumstances, does a person who reclines their seat during a flight have any obligation to the person sitting behind them?':'reclineseat-obligation-to-personbehind', \n",
    "                         'Is itrude to recline your seat on a plane?':'rude-to-recline-seat', \n",
    "                         'Given the opportunity, would you eliminate the possibility of reclining seats on planes entirely?':'not-recline-seats-if-possible', \n",
    "                         'Is it rude to ask someone to switch seats with you in order to be closer to friends?':'rude-to-ask-to-switch-seats-friends', \n",
    "                         'Is itrude to ask someone to switch seats with you in order to be closer to family?':'rude-to-ask-to-switch-seats-family', \n",
    "                         'Is it rude to wake a passenger up if you are trying to go to the bathroom?':'rude-to-wakeperson-bathroom', \n",
    "                         'Is itrude to wake a passenger up if you are trying to walk around?':'rude-to-wakeperson-walk',\n",
    "                         'In general, is itrude to bring a baby on a plane?':'rude-to-bring-baby',\n",
    "                         'In general, is it rude to knowingly bring unruly children on a plane?':'rude-to-bring-unruly-children', \n",
    "                         \"Have you ever used personal electronics during take off or landing in violation of a flight attendant's direction?\":'electronic-use-during-takeoff-landing', \n",
    "                         'Have you ever smoked a cigarette in an airplane bathroom when it was against the rules?':'smoked-cigarette-in-plane'}, inplace=True)"
   ]
  },
  {
   "cell_type": "code",
   "execution_count": 5,
   "id": "f78b2772-a3af-4dc0-8798-32fbb2881aba",
   "metadata": {},
   "outputs": [
    {
     "data": {
      "text/html": [
       "<div>\n",
       "<style scoped>\n",
       "    .dataframe tbody tr th:only-of-type {\n",
       "        vertical-align: middle;\n",
       "    }\n",
       "\n",
       "    .dataframe tbody tr th {\n",
       "        vertical-align: top;\n",
       "    }\n",
       "\n",
       "    .dataframe thead th {\n",
       "        text-align: right;\n",
       "    }\n",
       "</style>\n",
       "<table border=\"1\" class=\"dataframe\">\n",
       "  <thead>\n",
       "    <tr style=\"text-align: right;\">\n",
       "      <th></th>\n",
       "      <th>RespondentID</th>\n",
       "      <th>Plane Travel Frequency</th>\n",
       "      <th>Recline your seat</th>\n",
       "      <th>Height info</th>\n",
       "      <th>Children under 18</th>\n",
       "      <th>3rowseat-armrest</th>\n",
       "      <th>In a row of two seats, who should get to use the middle arm rest?</th>\n",
       "      <th>window-shade-control</th>\n",
       "      <th>rude-to-move-to-unsold-seat</th>\n",
       "      <th>rude-to-speak-to-strangers</th>\n",
       "      <th>...</th>\n",
       "      <th>rude-to-wakeperson-walk</th>\n",
       "      <th>rude-to-bring-baby</th>\n",
       "      <th>rude-to-bring-unruly-children</th>\n",
       "      <th>electronic-use-during-takeoff-landing</th>\n",
       "      <th>smoked-cigarette-in-plane</th>\n",
       "      <th>Gender</th>\n",
       "      <th>Age</th>\n",
       "      <th>Household Income</th>\n",
       "      <th>Education</th>\n",
       "      <th>Location (Census Region)</th>\n",
       "    </tr>\n",
       "  </thead>\n",
       "  <tbody>\n",
       "    <tr>\n",
       "      <th>0</th>\n",
       "      <td>3436139758</td>\n",
       "      <td>Once a year or less</td>\n",
       "      <td>NaN</td>\n",
       "      <td>NaN</td>\n",
       "      <td>NaN</td>\n",
       "      <td>NaN</td>\n",
       "      <td>NaN</td>\n",
       "      <td>NaN</td>\n",
       "      <td>NaN</td>\n",
       "      <td>NaN</td>\n",
       "      <td>...</td>\n",
       "      <td>NaN</td>\n",
       "      <td>NaN</td>\n",
       "      <td>NaN</td>\n",
       "      <td>NaN</td>\n",
       "      <td>NaN</td>\n",
       "      <td>NaN</td>\n",
       "      <td>NaN</td>\n",
       "      <td>NaN</td>\n",
       "      <td>NaN</td>\n",
       "      <td>NaN</td>\n",
       "    </tr>\n",
       "  </tbody>\n",
       "</table>\n",
       "<p>1 rows × 27 columns</p>\n",
       "</div>"
      ],
      "text/plain": [
       "   RespondentID Plane Travel Frequency Recline your seat Height info  \\\n",
       "0    3436139758    Once a year or less               NaN         NaN   \n",
       "\n",
       "  Children under 18 3rowseat-armrest  \\\n",
       "0               NaN              NaN   \n",
       "\n",
       "  In a row of two seats, who should get to use the middle arm rest?  \\\n",
       "0                                                NaN                  \n",
       "\n",
       "  window-shade-control rude-to-move-to-unsold-seat rude-to-speak-to-strangers  \\\n",
       "0                  NaN                         NaN                        NaN   \n",
       "\n",
       "   ... rude-to-wakeperson-walk rude-to-bring-baby  \\\n",
       "0  ...                     NaN                NaN   \n",
       "\n",
       "  rude-to-bring-unruly-children electronic-use-during-takeoff-landing  \\\n",
       "0                           NaN                                   NaN   \n",
       "\n",
       "  smoked-cigarette-in-plane Gender  Age Household Income Education  \\\n",
       "0                       NaN    NaN  NaN              NaN       NaN   \n",
       "\n",
       "  Location (Census Region)  \n",
       "0                      NaN  \n",
       "\n",
       "[1 rows x 27 columns]"
      ]
     },
     "execution_count": 5,
     "metadata": {},
     "output_type": "execute_result"
    }
   ],
   "source": [
    "df.head(1)"
   ]
  },
  {
   "cell_type": "code",
   "execution_count": 6,
   "id": "5438459a-405c-4dd4-ae2d-fb2bd0fb2fa3",
   "metadata": {},
   "outputs": [
    {
     "data": {
      "text/plain": [
       "0"
      ]
     },
     "execution_count": 6,
     "metadata": {},
     "output_type": "execute_result"
    }
   ],
   "source": [
    "#Checking for duplicated rows and values\n",
    "df.duplicated().sum()"
   ]
  },
  {
   "cell_type": "code",
   "execution_count": 7,
   "id": "6f720f45-6feb-4e68-9178-7f6ee03c8664",
   "metadata": {},
   "outputs": [
    {
     "data": {
      "text/plain": [
       "0"
      ]
     },
     "execution_count": 7,
     "metadata": {},
     "output_type": "execute_result"
    }
   ],
   "source": [
    "df_clean = df\n",
    "df_clean.duplicated().sum()"
   ]
  },
  {
   "cell_type": "code",
   "execution_count": 8,
   "id": "d82093c2-4865-493b-a871-88aba648117d",
   "metadata": {},
   "outputs": [
    {
     "data": {
      "text/plain": [
       "RespondentID                                                           0\n",
       "Plane Travel Frequency                                                 0\n",
       "Recline your seat                                                    182\n",
       "Height info                                                          182\n",
       "Children under 18                                                    189\n",
       "3rowseat-armrest                                                     184\n",
       "In a row of two seats, who should get to use the middle arm rest?    184\n",
       "window-shade-control                                                 184\n",
       "rude-to-move-to-unsold-seat                                          185\n",
       "rude-to-speak-to-strangers                                           185\n",
       "getup-not-in-aisle-seat                                              185\n",
       "reclineseat-obligation-to-personbehind                               186\n",
       "rude-to-recline-seat                                                 186\n",
       "not-recline-seats-if-possible                                        186\n",
       "rude-to-ask-to-switch-seats-friends                                  190\n",
       "rude-to-ask-to-switch-seats-family                                   190\n",
       "rude-to-wakeperson-bathroom                                          190\n",
       "rude-to-wakeperson-walk                                              190\n",
       "rude-to-bring-baby                                                   191\n",
       "rude-to-bring-unruly-children                                        191\n",
       "electronic-use-during-takeoff-landing                                191\n",
       "smoked-cigarette-in-plane                                            191\n",
       "Gender                                                                33\n",
       "Age                                                                   33\n",
       "Household Income                                                     214\n",
       "Education                                                             39\n",
       "Location (Census Region)                                              42\n",
       "dtype: int64"
      ]
     },
     "execution_count": 8,
     "metadata": {},
     "output_type": "execute_result"
    }
   ],
   "source": [
    "#Checking for missing values\n",
    "df_clean.isna().sum()"
   ]
  },
  {
   "cell_type": "code",
   "execution_count": 9,
   "id": "bd76c4ee-03c3-4421-8482-d328673a60b9",
   "metadata": {},
   "outputs": [],
   "source": [
    "#Drop missing values in a column\n",
    "df_clean.drop('Household Income',axis = 1, inplace = True)"
   ]
  },
  {
   "cell_type": "code",
   "execution_count": 10,
   "id": "1ef17c3f-05f5-44f5-9885-e9124dfb7d67",
   "metadata": {},
   "outputs": [
    {
     "name": "stdout",
     "output_type": "stream",
     "text": [
      "<class 'pandas.core.frame.DataFrame'>\n",
      "RangeIndex: 1040 entries, 0 to 1039\n",
      "Data columns (total 26 columns):\n",
      " #   Column                                                             Non-Null Count  Dtype \n",
      "---  ------                                                             --------------  ----- \n",
      " 0   RespondentID                                                       1040 non-null   int64 \n",
      " 1   Plane Travel Frequency                                             1040 non-null   object\n",
      " 2   Recline your seat                                                  858 non-null    object\n",
      " 3   Height info                                                        858 non-null    object\n",
      " 4   Children under 18                                                  851 non-null    object\n",
      " 5   3rowseat-armrest                                                   856 non-null    object\n",
      " 6   In a row of two seats, who should get to use the middle arm rest?  856 non-null    object\n",
      " 7   window-shade-control                                               856 non-null    object\n",
      " 8   rude-to-move-to-unsold-seat                                        855 non-null    object\n",
      " 9   rude-to-speak-to-strangers                                         855 non-null    object\n",
      " 10  getup-not-in-aisle-seat                                            855 non-null    object\n",
      " 11  reclineseat-obligation-to-personbehind                             854 non-null    object\n",
      " 12  rude-to-recline-seat                                               854 non-null    object\n",
      " 13  not-recline-seats-if-possible                                      854 non-null    object\n",
      " 14  rude-to-ask-to-switch-seats-friends                                850 non-null    object\n",
      " 15  rude-to-ask-to-switch-seats-family                                 850 non-null    object\n",
      " 16  rude-to-wakeperson-bathroom                                        850 non-null    object\n",
      " 17  rude-to-wakeperson-walk                                            850 non-null    object\n",
      " 18  rude-to-bring-baby                                                 849 non-null    object\n",
      " 19  rude-to-bring-unruly-children                                      849 non-null    object\n",
      " 20  electronic-use-during-takeoff-landing                              849 non-null    object\n",
      " 21  smoked-cigarette-in-plane                                          849 non-null    object\n",
      " 22  Gender                                                             1007 non-null   object\n",
      " 23  Age                                                                1007 non-null   object\n",
      " 24  Education                                                          1001 non-null   object\n",
      " 25  Location (Census Region)                                           998 non-null    object\n",
      "dtypes: int64(1), object(25)\n",
      "memory usage: 211.4+ KB\n"
     ]
    }
   ],
   "source": [
    "df_clean.info()"
   ]
  },
  {
   "cell_type": "code",
   "execution_count": 11,
   "id": "5d9e3674-cb40-4dba-8aa3-05560a9ca55a",
   "metadata": {},
   "outputs": [
    {
     "data": {
      "text/plain": [
       "RespondentID                                                           0\n",
       "Plane Travel Frequency                                                 0\n",
       "Recline your seat                                                    182\n",
       "Height info                                                          182\n",
       "Children under 18                                                    189\n",
       "3rowseat-armrest                                                     184\n",
       "In a row of two seats, who should get to use the middle arm rest?    184\n",
       "window-shade-control                                                 184\n",
       "rude-to-move-to-unsold-seat                                          185\n",
       "rude-to-speak-to-strangers                                           185\n",
       "getup-not-in-aisle-seat                                              185\n",
       "reclineseat-obligation-to-personbehind                               186\n",
       "rude-to-recline-seat                                                 186\n",
       "not-recline-seats-if-possible                                        186\n",
       "rude-to-ask-to-switch-seats-friends                                  190\n",
       "rude-to-ask-to-switch-seats-family                                   190\n",
       "rude-to-wakeperson-bathroom                                          190\n",
       "rude-to-wakeperson-walk                                              190\n",
       "rude-to-bring-baby                                                   191\n",
       "rude-to-bring-unruly-children                                        191\n",
       "electronic-use-during-takeoff-landing                                191\n",
       "smoked-cigarette-in-plane                                            191\n",
       "Gender                                                                33\n",
       "Age                                                                   33\n",
       "Education                                                             39\n",
       "Location (Census Region)                                              42\n",
       "dtype: int64"
      ]
     },
     "execution_count": 11,
     "metadata": {},
     "output_type": "execute_result"
    }
   ],
   "source": [
    "df_clean.isna().sum()"
   ]
  },
  {
   "cell_type": "code",
   "execution_count": 12,
   "id": "a75ce7d8-290a-499f-aee4-d57da0591b57",
   "metadata": {},
   "outputs": [
    {
     "name": "stdout",
     "output_type": "stream",
     "text": [
      "<class 'pandas.core.frame.DataFrame'>\n",
      "Index: 827 entries, 1 to 1039\n",
      "Data columns (total 26 columns):\n",
      " #   Column                                                             Non-Null Count  Dtype \n",
      "---  ------                                                             --------------  ----- \n",
      " 0   RespondentID                                                       827 non-null    int64 \n",
      " 1   Plane Travel Frequency                                             827 non-null    object\n",
      " 2   Recline your seat                                                  827 non-null    object\n",
      " 3   Height info                                                        827 non-null    object\n",
      " 4   Children under 18                                                  827 non-null    object\n",
      " 5   3rowseat-armrest                                                   827 non-null    object\n",
      " 6   In a row of two seats, who should get to use the middle arm rest?  827 non-null    object\n",
      " 7   window-shade-control                                               827 non-null    object\n",
      " 8   rude-to-move-to-unsold-seat                                        827 non-null    object\n",
      " 9   rude-to-speak-to-strangers                                         827 non-null    object\n",
      " 10  getup-not-in-aisle-seat                                            827 non-null    object\n",
      " 11  reclineseat-obligation-to-personbehind                             827 non-null    object\n",
      " 12  rude-to-recline-seat                                               827 non-null    object\n",
      " 13  not-recline-seats-if-possible                                      827 non-null    object\n",
      " 14  rude-to-ask-to-switch-seats-friends                                827 non-null    object\n",
      " 15  rude-to-ask-to-switch-seats-family                                 827 non-null    object\n",
      " 16  rude-to-wakeperson-bathroom                                        827 non-null    object\n",
      " 17  rude-to-wakeperson-walk                                            827 non-null    object\n",
      " 18  rude-to-bring-baby                                                 827 non-null    object\n",
      " 19  rude-to-bring-unruly-children                                      827 non-null    object\n",
      " 20  electronic-use-during-takeoff-landing                              827 non-null    object\n",
      " 21  smoked-cigarette-in-plane                                          827 non-null    object\n",
      " 22  Gender                                                             827 non-null    object\n",
      " 23  Age                                                                827 non-null    object\n",
      " 24  Education                                                          827 non-null    object\n",
      " 25  Location (Census Region)                                           827 non-null    object\n",
      "dtypes: int64(1), object(25)\n",
      "memory usage: 174.4+ KB\n"
     ]
    }
   ],
   "source": [
    "df_cleaned = df_clean.dropna()\n",
    "df_cleaned.info()"
   ]
  },
  {
   "cell_type": "code",
   "execution_count": 13,
   "id": "23d32652-d7b0-432e-9f2e-98ab7c8d85dc",
   "metadata": {},
   "outputs": [
    {
     "data": {
      "text/plain": [
       "RespondentID                                                          int64\n",
       "Plane Travel Frequency                                               object\n",
       "Recline your seat                                                    object\n",
       "Height info                                                          object\n",
       "Children under 18                                                    object\n",
       "3rowseat-armrest                                                     object\n",
       "In a row of two seats, who should get to use the middle arm rest?    object\n",
       "window-shade-control                                                 object\n",
       "rude-to-move-to-unsold-seat                                          object\n",
       "rude-to-speak-to-strangers                                           object\n",
       "getup-not-in-aisle-seat                                              object\n",
       "reclineseat-obligation-to-personbehind                               object\n",
       "rude-to-recline-seat                                                 object\n",
       "not-recline-seats-if-possible                                        object\n",
       "rude-to-ask-to-switch-seats-friends                                  object\n",
       "rude-to-ask-to-switch-seats-family                                   object\n",
       "rude-to-wakeperson-bathroom                                          object\n",
       "rude-to-wakeperson-walk                                              object\n",
       "rude-to-bring-baby                                                   object\n",
       "rude-to-bring-unruly-children                                        object\n",
       "electronic-use-during-takeoff-landing                                object\n",
       "smoked-cigarette-in-plane                                            object\n",
       "Gender                                                               object\n",
       "Age                                                                  object\n",
       "Education                                                            object\n",
       "Location (Census Region)                                             object\n",
       "dtype: object"
      ]
     },
     "execution_count": 13,
     "metadata": {},
     "output_type": "execute_result"
    }
   ],
   "source": [
    "#checking for numeric data types for outlier detection and wrong data types\n",
    "df_cleaned.dtypes"
   ]
  },
  {
   "cell_type": "markdown",
   "id": "4e5a8c40-da59-41a9-91e4-b72011c52363",
   "metadata": {},
   "source": [
    "## Q2\n",
    "\n",
    "As part of data preparation, use the information from \"How tall are you?\" to produce a new \"Height (Inches)\" column.s.\r\n"
   ]
  },
  {
   "cell_type": "code",
   "execution_count": 44,
   "id": "c7ec7f5e-3933-4f43-83c0-36764d71bd0f",
   "metadata": {},
   "outputs": [
    {
     "data": {
      "text/plain": [
       "Height info\n",
       "5'4\"              75\n",
       "5'7\"              74\n",
       "5'6\"              74\n",
       "5'8\"              72\n",
       "5'5\"              70\n",
       "5'9\"              69\n",
       "5'10\"             66\n",
       "6'0\"              53\n",
       "5'11\"             51\n",
       "5'3\"              47\n",
       "5'2\"              43\n",
       "6'2\"              26\n",
       "6'1\"              25\n",
       "5'1\"              19\n",
       "6'3\"              17\n",
       "5'0\"              16\n",
       "Under 5 ft.       12\n",
       "6'4\"              11\n",
       "6'5\"               6\n",
       "6'6\" and above     1\n",
       "Name: count, dtype: int64"
      ]
     },
     "execution_count": 44,
     "metadata": {},
     "output_type": "execute_result"
    }
   ],
   "source": [
    "#Change “Under 5 ft” to “5 ft”\n",
    "df_cleaned['Height info'].value_counts()"
   ]
  },
  {
   "cell_type": "code",
   "execution_count": 45,
   "id": "f31e0aba-8ca5-4c8e-bd72-fd4a53ddbc51",
   "metadata": {},
   "outputs": [],
   "source": [
    "df_replaced = df_cleaned.replace(to_replace=[\"Under 5 ft.\", \"6'6\\\" and above\"],\n",
    "           value=['5\\'0\"','6\\'6\"'])"
   ]
  },
  {
   "cell_type": "code",
   "execution_count": 46,
   "id": "9cce226e-d1a6-44cc-aedc-a7764f278625",
   "metadata": {},
   "outputs": [
    {
     "data": {
      "text/plain": [
       "Height info\n",
       "5'4\"     75\n",
       "5'7\"     74\n",
       "5'6\"     74\n",
       "5'8\"     72\n",
       "5'5\"     70\n",
       "5'9\"     69\n",
       "5'10\"    66\n",
       "6'0\"     53\n",
       "5'11\"    51\n",
       "5'3\"     47\n",
       "5'2\"     43\n",
       "5'0\"     28\n",
       "6'2\"     26\n",
       "6'1\"     25\n",
       "5'1\"     19\n",
       "6'3\"     17\n",
       "6'4\"     11\n",
       "6'5\"      6\n",
       "6'6\"      1\n",
       "Name: count, dtype: int64"
      ]
     },
     "execution_count": 46,
     "metadata": {},
     "output_type": "execute_result"
    }
   ],
   "source": [
    "df_replaced['Height info'].value_counts()"
   ]
  },
  {
   "cell_type": "code",
   "execution_count": 47,
   "id": "c6636cb4-cc7e-449a-a72c-253036d784fa",
   "metadata": {},
   "outputs": [],
   "source": [
    "#Create a new column, “Height (Inches)”, that converts the “How tall are you?” column in feet and inches to an integer of total inches.\n",
    "def parse_ht(ht):\n",
    "    ht_ = ht.split(\"'\")\n",
    "    ft_ = int(ht_[0])\n",
    "    in_ = int(ht_[1].replace(\"\\\"\" , \"\"))\n",
    "    return (12*ft_) + in_\n",
    "\n",
    "df_replaced['Height(Inches)']= df_replaced['Height info'].apply(lambda x:parse_ht(x))"
   ]
  },
  {
   "cell_type": "code",
   "execution_count": 48,
   "id": "9d26409a-b462-4d19-8e3d-138d7eaff65d",
   "metadata": {},
   "outputs": [
    {
     "name": "stdout",
     "output_type": "stream",
     "text": [
      "<class 'pandas.core.frame.DataFrame'>\n",
      "Index: 827 entries, 1 to 1039\n",
      "Data columns (total 27 columns):\n",
      " #   Column                                                             Non-Null Count  Dtype \n",
      "---  ------                                                             --------------  ----- \n",
      " 0   RespondentID                                                       827 non-null    int64 \n",
      " 1   Plane Travel Frequency                                             827 non-null    object\n",
      " 2   Recline your seat                                                  827 non-null    object\n",
      " 3   Height info                                                        827 non-null    object\n",
      " 4   Children under 18                                                  827 non-null    object\n",
      " 5   3rowseat-armrest                                                   827 non-null    object\n",
      " 6   In a row of two seats, who should get to use the middle arm rest?  827 non-null    object\n",
      " 7   window-shade-control                                               827 non-null    object\n",
      " 8   rude-to-move-to-unsold-seat                                        827 non-null    object\n",
      " 9   rude-to-speak-to-strangers                                         827 non-null    object\n",
      " 10  getup-not-in-aisle-seat                                            827 non-null    object\n",
      " 11  reclineseat-obligation-to-personbehind                             827 non-null    object\n",
      " 12  rude-to-recline-seat                                               827 non-null    object\n",
      " 13  not-recline-seats-if-possible                                      827 non-null    object\n",
      " 14  rude-to-ask-to-switch-seats-friends                                827 non-null    object\n",
      " 15  rude-to-ask-to-switch-seats-family                                 827 non-null    object\n",
      " 16  rude-to-wakeperson-bathroom                                        827 non-null    object\n",
      " 17  rude-to-wakeperson-walk                                            827 non-null    object\n",
      " 18  rude-to-bring-baby                                                 827 non-null    object\n",
      " 19  rude-to-bring-unruly-children                                      827 non-null    object\n",
      " 20  electronic-use-during-takeoff-landing                              827 non-null    object\n",
      " 21  smoked-cigarette-in-plane                                          827 non-null    object\n",
      " 22  Gender                                                             827 non-null    object\n",
      " 23  Age                                                                827 non-null    object\n",
      " 24  Education                                                          827 non-null    object\n",
      " 25  Location (Census Region)                                           827 non-null    object\n",
      " 26  Height(Inches)                                                     827 non-null    int64 \n",
      "dtypes: int64(2), object(25)\n",
      "memory usage: 180.9+ KB\n"
     ]
    }
   ],
   "source": [
    "df_replaced.info()"
   ]
  },
  {
   "cell_type": "code",
   "execution_count": 49,
   "id": "3f398522-53a2-4159-a2b0-c10faa88a398",
   "metadata": {},
   "outputs": [
    {
     "data": {
      "text/plain": [
       "1       75\n",
       "2       68\n",
       "3       71\n",
       "4       67\n",
       "5       69\n",
       "        ..\n",
       "1029    64\n",
       "1032    63\n",
       "1034    73\n",
       "1035    67\n",
       "1039    75\n",
       "Name: Height(Inches), Length: 827, dtype: int64"
      ]
     },
     "execution_count": 49,
     "metadata": {},
     "output_type": "execute_result"
    }
   ],
   "source": [
    "df_replaced['Height(Inches)']"
   ]
  },
  {
   "cell_type": "markdown",
   "id": "45c8cc36-929a-4da9-a2ee-82172c291c8a",
   "metadata": {},
   "source": [
    "# PHASE 3: Exploring data"
   ]
  },
  {
   "cell_type": "markdown",
   "id": "7c204d99-a19c-4079-ba4b-9c5aa954f5ab",
   "metadata": {},
   "source": [
    "## Q3\n",
    "\n",
    "In the report portion of the notebook, use visuals and text to answer the following:"
   ]
  },
  {
   "cell_type": "markdown",
   "id": "06a3cb94-5ee8-4d23-b36e-fc84bbf7d662",
   "metadata": {},
   "source": [
    "## Percent breakdown of survey participants by age range."
   ]
  },
  {
   "cell_type": "code",
   "execution_count": 187,
   "id": "d97f7799-2247-41fd-a5a3-432cfd846f85",
   "metadata": {},
   "outputs": [],
   "source": [
    "range_list = ['45-60', '30-44', '>60', '18-29']"
   ]
  },
  {
   "cell_type": "code",
   "execution_count": 293,
   "id": "2a16f7f7-3370-4db0-9faa-4eb61542e425",
   "metadata": {},
   "outputs": [
    {
     "data": {
      "text/plain": [
       "Age\n",
       "45-60    230\n",
       "30-44    216\n",
       "> 60     211\n",
       "18-29    170\n",
       "Name: count, dtype: int64"
      ]
     },
     "execution_count": 293,
     "metadata": {},
     "output_type": "execute_result"
    }
   ],
   "source": [
    "age_value = df_replaced['Age'].value_counts()\n",
    "age_value"
   ]
  },
  {
   "cell_type": "code",
   "execution_count": 189,
   "id": "cf7b3fb9-93cd-42e5-aeab-9563ac76d91e",
   "metadata": {},
   "outputs": [
    {
     "data": {
      "image/png": "[encoded data removed]",
      "text/plain": [
       "<Figure size 640x480 with 1 Axes>"
      ]
     },
     "metadata": {},
     "output_type": "display_data"
    }
   ],
   "source": [
    "plt.bar( range_list, age_value)\n",
    "plt.xlabel('Age')\n",
    "plt.ylabel('Counts')\n",
    "plt.title('Number of Participants by Age')\n",
    "plt.show()"
   ]
  },
  {
   "cell_type": "code",
   "execution_count": 190,
   "id": "e726eab0-24ff-4732-a841-ead2b8a13778",
   "metadata": {},
   "outputs": [
    {
     "data": {
      "image/png": "[encoded data removed]",
      "text/plain": [
       "<Figure size 640x480 with 1 Axes>"
      ]
     },
     "metadata": {},
     "output_type": "display_data"
    }
   ],
   "source": [
    "plt.pie(df_replaced['Age'].value_counts(), autopct='%1.1f%%', labels = range_list )\n",
    "plt.title(\"Percent breakdown of survey participants by age range\")\n",
    "plt.show()"
   ]
  },
  {
   "cell_type": "markdown",
   "id": "422367cc-ac07-49b4-a051-c61c0df84742",
   "metadata": {},
   "source": [
    "How did survey respondents generally feel regarding if “it [was] rude to ask someone to switch seats with you in order to be closer to friends?\"?"
   ]
  },
  {
   "cell_type": "code",
   "execution_count": 191,
   "id": "a17893cf-c7d8-46e7-863d-db6db607a90f",
   "metadata": {},
   "outputs": [],
   "source": [
    "value_counts = df_replaced['rude-to-ask-to-switch-seats-friends'].value_counts()\n",
    "label = ['No, not at all rude', 'Yes, somewhat rude', 'Yes, very rude' ]"
   ]
  },
  {
   "cell_type": "code",
   "execution_count": 192,
   "id": "1d6fafec-fee6-43d4-a1e5-f73a01260ba3",
   "metadata": {},
   "outputs": [
    {
     "data": {
      "image/png": "[encoded data removed]",
      "text/plain": [
       "<Figure size 640x480 with 1 Axes>"
      ]
     },
     "metadata": {},
     "output_type": "display_data"
    }
   ],
   "source": [
    "plt.bar( label, value_counts, color = ['darkblue', 'orange', 'green'] )\n",
    "plt.xlabel('Response')\n",
    "plt.ylabel('Counts')\n",
    "plt.title('Feeling regarding asking someone to switch seats to be closer to friends')\n",
    "plt.show()"
   ]
  },
  {
   "cell_type": "markdown",
   "id": "675ef249-c119-4d4a-81b9-1f884d42abb5",
   "metadata": {},
   "source": [
    "## Use the respondents age as a dimension to see if there are any differences to responses to “it [was] rude to ask someone to switch seats with you in order to be closer to friends?”?"
   ]
  },
  {
   "cell_type": "code",
   "execution_count": 247,
   "id": "96ea24d5-049e-4631-918e-1b3f97718835",
   "metadata": {},
   "outputs": [
    {
     "data": {
      "text/plain": [
       "rude-to-ask-to-switch-seats-friends  Age  \n",
       "No, not at all rude                  45-60    190\n",
       "                                     30-44    153\n",
       "                                     > 60     152\n",
       "                                     18-29    121\n",
       "Yes, somewhat rude                   30-44     54\n",
       "                                     > 60      47\n",
       "                                     18-29     42\n",
       "                                     45-60     35\n",
       "Yes, very rude                       > 60      12\n",
       "                                     30-44      9\n",
       "                                     18-29      7\n",
       "                                     45-60      5\n",
       "Name: count, dtype: int64"
      ]
     },
     "execution_count": 247,
     "metadata": {},
     "output_type": "execute_result"
    }
   ],
   "source": [
    "age_seat = df_replaced[['rude-to-ask-to-switch-seats-friends', 'Age']]\n",
    "age_seat.value_counts()"
   ]
  },
  {
   "cell_type": "code",
   "execution_count": 248,
   "id": "28a2ecf1-d867-4405-9d90-c03c200abf6c",
   "metadata": {},
   "outputs": [
    {
     "data": {
      "text/plain": [
       "Text(0, 0.5, 'Counts')"
      ]
     },
     "execution_count": 248,
     "metadata": {},
     "output_type": "execute_result"
    },
    {
     "data": {
      "image/png": "[encoded data removed]",
      "text/plain": [
       "<Figure size 640x480 with 1 Axes>"
      ]
     },
     "metadata": {},
     "output_type": "display_data"
    }
   ],
   "source": [
    "plt.hist(age_seat.value_counts())\n",
    "plt.title(\"Relationship between age and Feeling regarding asking someone to switch seats to be closer to friends\")\n",
    "plt.xlabel('Response Frequency')\n",
    "plt.ylabel('Counts')"
   ]
  },
  {
   "cell_type": "markdown",
   "id": "96781d33-a561-4c7e-9257-bbe0aa75c2bb",
   "metadata": {},
   "source": [
    "## What is the relationship between “Do you ever recline your seat when you fly?” and “How tall are you?”. How about other questions that might relate to height."
   ]
  },
  {
   "cell_type": "code",
   "execution_count": 229,
   "id": "bd2324a2-3ff9-401c-942d-633e77ae7a7c",
   "metadata": {},
   "outputs": [
    {
     "data": {
      "text/plain": [
       "Recline your seat    Height info\n",
       "Once in a while      5'9\"           29\n",
       "                     5'7\"           25\n",
       "                     5'5\"           23\n",
       "                     5'10\"          22\n",
       "                     5'4\"           22\n",
       "                                    ..\n",
       "Never                6'5\"            1\n",
       "Once in a while      6'5\"            1\n",
       "About half the time  5'1\"            1\n",
       "Usually              6'5\"            1\n",
       "                     6'6\"            1\n",
       "Name: count, Length: 90, dtype: int64"
      ]
     },
     "execution_count": 229,
     "metadata": {},
     "output_type": "execute_result"
    }
   ],
   "source": [
    "seat_height = df_replaced[['Recline your seat', 'Height info']]\n",
    "seat_height.value_counts()"
   ]
  },
  {
   "cell_type": "code",
   "execution_count": 231,
   "id": "43d0cdc3-6dc2-405d-b8ae-8b414358fd7b",
   "metadata": {},
   "outputs": [
    {
     "data": {
      "text/plain": [
       "Text(0, 0.5, 'Counts')"
      ]
     },
     "execution_count": 231,
     "metadata": {},
     "output_type": "execute_result"
    },
    {
     "data": {
      "image/png": "[encoded data removed]",
      "text/plain": [
       "<Figure size 640x480 with 1 Axes>"
      ]
     },
     "metadata": {},
     "output_type": "display_data"
    }
   ],
   "source": [
    "plt.hist(seat_height.value_counts())\n",
    "plt.title(\"Relationship between Seat and Height\")\n",
    "plt.xlabel('Response Frequency')\n",
    "plt.ylabel('Counts')"
   ]
  },
  {
   "cell_type": "markdown",
   "id": "8b31cc73-5668-4abe-bf4e-951061c795c7",
   "metadata": {},
   "source": [
    "## Extended Challenges:\n"
   ]
  },
  {
   "cell_type": "markdown",
   "id": "c12202c4-bd2b-445e-b4a8-2c7d33bf8515",
   "metadata": {},
   "source": [
    "## Q\n",
    "“On a 6 hour flight from NYC to LA, how many times is it acceptable to get up if you're not in an aisle seat?”:  Convert this column to a new number column. Explain what you will do with columns that do not quite fit numbers. Make a decision and justify that decision."
   ]
  },
  {
   "cell_type": "code",
   "execution_count": 261,
   "id": "d20e5444-b1fe-4cdf-ae88-d2c4b2f5fd0e",
   "metadata": {},
   "outputs": [
    {
     "name": "stdout",
     "output_type": "stream",
     "text": [
      "<class 'pandas.core.frame.DataFrame'>\n",
      "Index: 827 entries, 1 to 1039\n",
      "Data columns (total 27 columns):\n",
      " #   Column                                                             Non-Null Count  Dtype \n",
      "---  ------                                                             --------------  ----- \n",
      " 0   RespondentID                                                       827 non-null    int64 \n",
      " 1   Plane Travel Frequency                                             827 non-null    object\n",
      " 2   Recline your seat                                                  827 non-null    object\n",
      " 3   Height info                                                        827 non-null    object\n",
      " 4   Children under 18                                                  827 non-null    object\n",
      " 5   3rowseat-armrest                                                   827 non-null    object\n",
      " 6   In a row of two seats, who should get to use the middle arm rest?  827 non-null    object\n",
      " 7   window-shade-control                                               827 non-null    object\n",
      " 8   rude-to-move-to-unsold-seat                                        827 non-null    object\n",
      " 9   rude-to-speak-to-strangers                                         827 non-null    object\n",
      " 10  getup-not-in-aisle-seat                                            827 non-null    object\n",
      " 11  reclineseat-obligation-to-personbehind                             827 non-null    object\n",
      " 12  rude-to-recline-seat                                               827 non-null    object\n",
      " 13  not-recline-seats-if-possible                                      827 non-null    object\n",
      " 14  rude-to-ask-to-switch-seats-friends                                827 non-null    object\n",
      " 15  rude-to-ask-to-switch-seats-family                                 827 non-null    object\n",
      " 16  rude-to-wakeperson-bathroom                                        827 non-null    object\n",
      " 17  rude-to-wakeperson-walk                                            827 non-null    object\n",
      " 18  rude-to-bring-baby                                                 827 non-null    object\n",
      " 19  rude-to-bring-unruly-children                                      827 non-null    object\n",
      " 20  electronic-use-during-takeoff-landing                              827 non-null    object\n",
      " 21  smoked-cigarette-in-plane                                          827 non-null    object\n",
      " 22  Gender                                                             827 non-null    object\n",
      " 23  Age                                                                827 non-null    object\n",
      " 24  Education                                                          827 non-null    object\n",
      " 25  Location (Census Region)                                           827 non-null    object\n",
      " 26  Height(Inches)                                                     827 non-null    int64 \n",
      "dtypes: int64(2), object(25)\n",
      "memory usage: 180.9+ KB\n"
     ]
    }
   ],
   "source": [
    "df_replaced.info()"
   ]
  },
  {
   "cell_type": "code",
   "execution_count": 303,
   "id": "f88ccdd5-7170-43ab-bd4e-3847e38b806b",
   "metadata": {},
   "outputs": [
    {
     "data": {
      "text/plain": [
       "getup-not-in-aisle-seat\n",
       "Three times                               286\n",
       "Twice                                     268\n",
       "Four times                                108\n",
       "More than five times times                 89\n",
       "Once                                       66\n",
       "It is not okay to get up during flight     10\n",
       "Name: count, dtype: int64"
      ]
     },
     "execution_count": 303,
     "metadata": {},
     "output_type": "execute_result"
    }
   ],
   "source": [
    "string_list = df_replaced['getup-not-in-aisle-seat']\n",
    "string_list.value_counts()"
   ]
  },
  {
   "cell_type": "markdown",
   "id": "e59773de-d070-4b1c-8bde-0010fdfb12f2",
   "metadata": {},
   "source": [
    "For responses - more than 5 times, I chose to store the integer as 5 considering the integer of value 5 to be the least acceptable. \n",
    "For It is not okay to get up during flight response, I set it to 0 which translates that getting up is not allowed."
   ]
  },
  {
   "cell_type": "code",
   "execution_count": 301,
   "id": "efc67502-6f9c-45e9-aa95-aced57f48070",
   "metadata": {},
   "outputs": [],
   "source": [
    "map_string = {\n",
    "    'Three times': 3,\n",
    "    'Twice': 2,\n",
    "    'Four times': 4,\n",
    "    'More than five times times': 5,\n",
    "    'Once': 1,\n",
    "    'It is not okay to get up during flight': 0\n",
    "}\n",
    "\n",
    "string_to_int = [map_string[string] for string in string_list]\n",
    "\n",
    "df_replaced['getup-not-in-aisle-seat-integer'] = string_to_int"
   ]
  },
  {
   "cell_type": "code",
   "execution_count": 302,
   "id": "b24c6026-d81b-4dd7-9697-336b3e294174",
   "metadata": {},
   "outputs": [
    {
     "name": "stdout",
     "output_type": "stream",
     "text": [
      "<class 'pandas.core.frame.DataFrame'>\n",
      "Index: 827 entries, 1 to 1039\n",
      "Data columns (total 28 columns):\n",
      " #   Column                                                             Non-Null Count  Dtype \n",
      "---  ------                                                             --------------  ----- \n",
      " 0   RespondentID                                                       827 non-null    int64 \n",
      " 1   Plane Travel Frequency                                             827 non-null    object\n",
      " 2   Recline your seat                                                  827 non-null    object\n",
      " 3   Height info                                                        827 non-null    object\n",
      " 4   Children under 18                                                  827 non-null    object\n",
      " 5   3rowseat-armrest                                                   827 non-null    object\n",
      " 6   In a row of two seats, who should get to use the middle arm rest?  827 non-null    object\n",
      " 7   window-shade-control                                               827 non-null    object\n",
      " 8   rude-to-move-to-unsold-seat                                        827 non-null    object\n",
      " 9   rude-to-speak-to-strangers                                         827 non-null    object\n",
      " 10  getup-not-in-aisle-seat                                            827 non-null    object\n",
      " 11  reclineseat-obligation-to-personbehind                             827 non-null    object\n",
      " 12  rude-to-recline-seat                                               827 non-null    object\n",
      " 13  not-recline-seats-if-possible                                      827 non-null    object\n",
      " 14  rude-to-ask-to-switch-seats-friends                                827 non-null    object\n",
      " 15  rude-to-ask-to-switch-seats-family                                 827 non-null    object\n",
      " 16  rude-to-wakeperson-bathroom                                        827 non-null    object\n",
      " 17  rude-to-wakeperson-walk                                            827 non-null    object\n",
      " 18  rude-to-bring-baby                                                 827 non-null    object\n",
      " 19  rude-to-bring-unruly-children                                      827 non-null    object\n",
      " 20  electronic-use-during-takeoff-landing                              827 non-null    object\n",
      " 21  smoked-cigarette-in-plane                                          827 non-null    object\n",
      " 22  Gender                                                             827 non-null    object\n",
      " 23  Age                                                                827 non-null    object\n",
      " 24  Education                                                          827 non-null    object\n",
      " 25  Location (Census Region)                                           827 non-null    object\n",
      " 26  Height(Inches)                                                     827 non-null    int64 \n",
      " 27  getup-not-in-aisle-seat-integer                                    827 non-null    int64 \n",
      "dtypes: int64(3), object(25)\n",
      "memory usage: 219.7+ KB\n"
     ]
    }
   ],
   "source": [
    "df_replaced.info()"
   ]
  },
  {
   "cell_type": "markdown",
   "id": "2cd177f7-8650-40ed-be73-ce4e5c633de1",
   "metadata": {},
   "source": [
    "## Q\n",
    "Visualize the new column and calculate the average per age group. Which age groups have higher levels of getting up outside an aisle seat."
   ]
  },
  {
   "cell_type": "code",
   "execution_count": 304,
   "id": "14840ce8-c78a-4f00-857f-d3c20300bbbf",
   "metadata": {},
   "outputs": [
    {
     "data": {
      "text/plain": [
       "(array([ 10.,   0.,  66.,   0., 268.,   0., 286.,   0., 108.,  89.]),\n",
       " array([0. , 0.5, 1. , 1.5, 2. , 2.5, 3. , 3.5, 4. , 4.5, 5. ]),\n",
       " <BarContainer object of 10 artists>)"
      ]
     },
     "execution_count": 304,
     "metadata": {},
     "output_type": "execute_result"
    },
    {
     "data": {
      "image/png": "[encoded data removed]",
      "text/plain": [
       "<Figure size 640x480 with 1 Axes>"
      ]
     },
     "metadata": {},
     "output_type": "display_data"
    }
   ],
   "source": [
    "plt.hist(df_replaced['getup-not-in-aisle-seat-integer'])"
   ]
  }
 ],
 "metadata": {
  "kernelspec": {
   "display_name": "Python 3 (ipykernel)",
   "language": "python",
   "name": "python3"
  },
  "language_info": {
   "codemirror_mode": {
    "name": "ipython",
    "version": 3
   },
   "file_extension": ".py",
   "mimetype": "text/x-python",
   "name": "python",
   "nbconvert_exporter": "python",
   "pygments_lexer": "ipython3",
   "version": "3.11.7"
  }
 },
 "nbformat": 4,
 "nbformat_minor": 5
}
