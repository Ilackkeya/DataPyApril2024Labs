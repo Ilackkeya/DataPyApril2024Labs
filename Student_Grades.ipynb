{
 "cells": [
  {
   "cell_type": "markdown",
   "id": "35a71d2e-07f1-4824-ace2-745d5c080ce2",
   "metadata": {},
   "source": [
    "Student Grades\n",
    "\n",
    "Question 1:\r\n",
    "Consider the following midterm grades for students taking math, science, reading, and history\n",
    " (each grade is calculated out of a maximum of 20 points). \r\n",
    "\r\n"
   ]
  },
  {
   "cell_type": "code",
   "execution_count": 3,
   "id": "5b448fbe-56e0-4bb2-8483-c44797238567",
   "metadata": {},
   "outputs": [],
   "source": [
    "import numpy as np\n",
    "import pandas as pd\n",
    "import math"
   ]
  },
  {
   "cell_type": "code",
   "execution_count": null,
   "id": "0df4fdd3-4714-4047-b0ea-d27f353b84e0",
   "metadata": {},
   "outputs": [],
   "source": [
    "math = [11, 12, 11, 7, 9.5, 15, 18]\n",
    "science = [9, 11, 18, 15.5, 12, 18.5, 15.5]\n",
    "reading= [16, 8.5, 11.5, 11, 10.5, 7, 11]\n",
    "history= [13.5, 10, 9, 14, 14, 12, 7.5]\n"
   ]
  },
  {
   "cell_type": "markdown",
   "id": "d9de4fe9-0b49-45f0-bedc-04f15e03ac49",
   "metadata": {},
   "source": [
    "1. Calculate the mean for each individual subject."
   ]
  },
  {
   "cell_type": "code",
   "execution_count": 17,
   "id": "3a246830-4916-40ec-9814-d4e13c5dfbb9",
   "metadata": {},
   "outputs": [
    {
     "data": {
      "text/plain": [
       "11.928571428571429"
      ]
     },
     "execution_count": 17,
     "metadata": {},
     "output_type": "execute_result"
    }
   ],
   "source": [
    "np.mean(math)"
   ]
  },
  {
   "cell_type": "code",
   "execution_count": 18,
   "id": "07130d7d-8df2-4785-89f7-8d53b8922f5b",
   "metadata": {},
   "outputs": [
    {
     "data": {
      "text/plain": [
       "14.214285714285714"
      ]
     },
     "execution_count": 18,
     "metadata": {},
     "output_type": "execute_result"
    }
   ],
   "source": [
    "np.mean(science)"
   ]
  },
  {
   "cell_type": "code",
   "execution_count": 19,
   "id": "cf4ded82-a9a9-4d7f-92ec-549fd6eac264",
   "metadata": {},
   "outputs": [
    {
     "data": {
      "text/plain": [
       "10.785714285714286"
      ]
     },
     "execution_count": 19,
     "metadata": {},
     "output_type": "execute_result"
    }
   ],
   "source": [
    "np.mean(reading)"
   ]
  },
  {
   "cell_type": "code",
   "execution_count": 20,
   "id": "f658e281-d154-4fe1-9842-fab426c59bfd",
   "metadata": {},
   "outputs": [
    {
     "data": {
      "text/plain": [
       "11.428571428571429"
      ]
     },
     "execution_count": 20,
     "metadata": {},
     "output_type": "execute_result"
    }
   ],
   "source": [
    "np.mean(history)"
   ]
  },
  {
   "cell_type": "markdown",
   "id": "1a7848ac-9aa7-48f0-8e92-2b2526faaa39",
   "metadata": {},
   "source": [
    "2. Find the median grade in Math for all students."
   ]
  },
  {
   "cell_type": "code",
   "execution_count": 21,
   "id": "48a69429-7472-483d-ab11-b18c545858fa",
   "metadata": {},
   "outputs": [
    {
     "data": {
      "text/plain": [
       "11.0"
      ]
     },
     "execution_count": 21,
     "metadata": {},
     "output_type": "execute_result"
    }
   ],
   "source": [
    "np.median(math)"
   ]
  },
  {
   "cell_type": "markdown",
   "id": "3c8d4831-1282-4420-a9e3-d9eb62cbeecf",
   "metadata": {},
   "source": [
    "3. Calculate the mode for History."
   ]
  },
  {
   "cell_type": "code",
   "execution_count": 16,
   "id": "e216f07e-2891-4c5c-aad7-10d51767d1fd",
   "metadata": {},
   "outputs": [
    {
     "data": {
      "text/plain": [
       "14"
      ]
     },
     "execution_count": 16,
     "metadata": {},
     "output_type": "execute_result"
    }
   ],
   "source": [
    "import statistics\n",
    "statistics.mode(history)\n",
    "# np.mode(history)"
   ]
  },
  {
   "cell_type": "markdown",
   "id": "2f155bf1-8709-4f04-b568-e80993f4e958",
   "metadata": {},
   "source": [
    "Question 2:\r\n",
    "Given the following grades from Question 1, calculate the correlation between the different subjects. What two subjects have the strongest correlation\r\n"
   ]
  },
  {
   "cell_type": "code",
   "execution_count": 22,
   "id": "283e6a97-f16f-49e7-bd82-c98a22a2f6eb",
   "metadata": {},
   "outputs": [
    {
     "data": {
      "text/plain": [
       "0.2694940962141907"
      ]
     },
     "execution_count": 22,
     "metadata": {},
     "output_type": "execute_result"
    }
   ],
   "source": [
    "np.corrcoef(math, science)[0,1]"
   ]
  },
  {
   "cell_type": "code",
   "execution_count": 23,
   "id": "087a44af-3c95-4ffc-91c9-221f212b0f55",
   "metadata": {},
   "outputs": [
    {
     "data": {
      "text/plain": [
       "-0.26856188905797385"
      ]
     },
     "execution_count": 23,
     "metadata": {},
     "output_type": "execute_result"
    }
   ],
   "source": [
    "np.corrcoef(math, reading)[0,1]"
   ]
  },
  {
   "cell_type": "code",
   "execution_count": 24,
   "id": "84f1cabb-50a7-4d02-80c8-273549652732",
   "metadata": {},
   "outputs": [
    {
     "data": {
      "text/plain": [
       "-0.7183583464149538"
      ]
     },
     "execution_count": 24,
     "metadata": {},
     "output_type": "execute_result"
    }
   ],
   "source": [
    "np.corrcoef(math, history)[0,1]"
   ]
  },
  {
   "cell_type": "code",
   "execution_count": 25,
   "id": "998109ff-0612-49ee-8ed6-b90648ddaf4b",
   "metadata": {},
   "outputs": [
    {
     "data": {
      "text/plain": [
       "-0.5276058297032529"
      ]
     },
     "execution_count": 25,
     "metadata": {},
     "output_type": "execute_result"
    }
   ],
   "source": [
    "np.corrcoef(science, reading)[0,1]"
   ]
  },
  {
   "cell_type": "code",
   "execution_count": 26,
   "id": "f262b838-1bd9-4c8c-ab9a-64bfc2fd8b50",
   "metadata": {},
   "outputs": [
    {
     "data": {
      "text/plain": [
       "-0.35868815565295303"
      ]
     },
     "execution_count": 26,
     "metadata": {},
     "output_type": "execute_result"
    }
   ],
   "source": [
    "np.corrcoef(science, history)[0,1]"
   ]
  },
  {
   "cell_type": "code",
   "execution_count": 27,
   "id": "3e67a7a0-7400-4ecd-be62-f5d13fb1f2fa",
   "metadata": {},
   "outputs": [
    {
     "data": {
      "text/plain": [
       "0.20679404264832346"
      ]
     },
     "execution_count": 27,
     "metadata": {},
     "output_type": "execute_result"
    }
   ],
   "source": [
    "np.corrcoef(reading, history)[0,1]"
   ]
  },
  {
   "cell_type": "markdown",
   "id": "50138dd7-4561-4607-bea6-953ff0e9246f",
   "metadata": {},
   "source": [
    "Math and science have the strongest correlation compared to the other subjects"
   ]
  },
  {
   "cell_type": "markdown",
   "id": "ca5f7f0a-7270-4885-832b-ea48bbcc1716",
   "metadata": {},
   "source": [
    "Question 3:\r\n",
    "Consider the following numbers representing the grades from the most recent exam in a math clas\r\n"
   ]
  },
  {
   "cell_type": "code",
   "execution_count": 42,
   "id": "52ff5cff-22e7-4981-9fcf-6d24234feb25",
   "metadata": {},
   "outputs": [],
   "source": [
    "def desc_stats(grades):\n",
    "    mean = round(np.mean(grades), 2)\n",
    "    print('Mean: ', mean)\n",
    "    median = np.median(grades)\n",
    "    print('Median: ', median)\n",
    "    mode = statistics.mode(grades)\n",
    "    print('Mode: ', mode)\n",
    "    mini = np.min(grades)\n",
    "    print('Minimum: ', mini)\n",
    "    maxi = np.max(grades)\n",
    "    print('Maximum: ', maxi)\n",
    "    range = np.ptp(grades)\n",
    "    print('Range: ', range)\n",
    "    variance = round(np.var(grades), 2)\n",
    "    print('Variance: ', variance)\n",
    "    std_dev = round(np.std(grades), 2)\n",
    "    print('Standard Deviation: ', std_dev)\n"
   ]
  },
  {
   "cell_type": "code",
   "execution_count": 43,
   "id": "4c788b87-0a8f-4503-9240-946791b23354",
   "metadata": {},
   "outputs": [
    {
     "name": "stdout",
     "output_type": "stream",
     "text": [
      "Mean:  59.48\n",
      "Median:  60.0\n",
      "Mode:  60\n",
      "Minimum:  5\n",
      "Maximum:  99\n",
      "Range:  94\n",
      "Variance:  664.16\n",
      "Standard Deviation:  25.77\n"
     ]
    }
   ],
   "source": [
    "grades = [24, 5, 15, 60, 54, 82, 99, 80, 70, 98, 93, 60, 33, 22, 65, 61, 51, 58, 83, 86, 42, 67, 60]\n",
    "desc_stats(grades)"
   ]
  },
  {
   "cell_type": "markdown",
   "id": "ef21145b-b3db-40cc-ac4c-b34c9c2a2fe5",
   "metadata": {},
   "source": [
    "Extended Challenge:\n",
    "\n",
    "\r\n",
    "Interpret the results. If you were the instructor of the class, would you curve the grade?\n",
    "\n",
    "\n",
    " Assume:\r\n",
    "0-100 is the possible range of scores\r\n",
    "The grade scale is:\r\n",
    "F: 0-60\r\n",
    "D: 60-70\r\n",
    "C: 70-80\r\n",
    "B: 80-90\r\n",
    "A\n",
    ": 90-100\r\n",
    "Think about the grade scale and use the information from your desc_stats() to justify your results. "
   ]
  },
  {
   "cell_type": "markdown",
   "id": "688c5545-892b-4bc0-bcd8-e92fc48cb0a8",
   "metadata": {},
   "source": [
    "Answer:\n",
    "\n",
    "The class has a mean of 59.48  which is equivalent to F in grade scale. The median is 60 which is equivalent to D in grade scale.\n",
    "We can interpret that the class has shown poor performance in terms of grade scale."
   ]
  }
 ],
 "metadata": {
  "kernelspec": {
   "display_name": "Python 3 (ipykernel)",
   "language": "python",
   "name": "python3"
  },
  "language_info": {
   "codemirror_mode": {
    "name": "ipython",
    "version": 3
   },
   "file_extension": ".py",
   "mimetype": "text/x-python",
   "name": "python",
   "nbconvert_exporter": "python",
   "pygments_lexer": "ipython3",
   "version": "3.11.7"
  }
 },
 "nbformat": 4,
 "nbformat_minor": 5
}
