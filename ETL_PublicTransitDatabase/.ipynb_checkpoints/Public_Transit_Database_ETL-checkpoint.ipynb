{
 "cells": [
  {
   "cell_type": "code",
   "execution_count": 1,
   "id": "b5e070ea-170f-4b33-9591-053c5edfdaa6",
   "metadata": {},
   "outputs": [],
   "source": [
    "import requests\n",
    "import pandas as pd\n",
    "import numpy as np\n",
    "import sqlalchemy\n",
    "import warnings\n",
    "warnings.filterwarnings('ignore')"
   ]
  },
  {
   "cell_type": "markdown",
   "id": "61cfc918-e7d4-405f-bc3e-9c77dd4eaf75",
   "metadata": {},
   "source": [
    "#### Extract New York Public Transit Data"
   ]
  },
  {
   "cell_type": "code",
   "execution_count": 2,
   "id": "5247437d-d648-4bac-941a-413606697149",
   "metadata": {},
   "outputs": [
    {
     "data": {
      "text/html": [
       "<div>\n",
       "<style scoped>\n",
       "    .dataframe tbody tr th:only-of-type {\n",
       "        vertical-align: middle;\n",
       "    }\n",
       "\n",
       "    .dataframe tbody tr th {\n",
       "        vertical-align: top;\n",
       "    }\n",
       "\n",
       "    .dataframe thead th {\n",
       "        text-align: right;\n",
       "    }\n",
       "</style>\n",
       "<table border=\"1\" class=\"dataframe\">\n",
       "  <thead>\n",
       "    <tr style=\"text-align: right;\">\n",
       "      <th></th>\n",
       "      <th>Month</th>\n",
       "      <th>Agency</th>\n",
       "      <th>Ridership</th>\n",
       "    </tr>\n",
       "  </thead>\n",
       "  <tbody>\n",
       "    <tr>\n",
       "      <th>0</th>\n",
       "      <td>01/01/2008</td>\n",
       "      <td>MNR</td>\n",
       "      <td>6453734</td>\n",
       "    </tr>\n",
       "    <tr>\n",
       "      <th>1</th>\n",
       "      <td>02/01/2008</td>\n",
       "      <td>MNR</td>\n",
       "      <td>6144377</td>\n",
       "    </tr>\n",
       "    <tr>\n",
       "      <th>2</th>\n",
       "      <td>03/01/2008</td>\n",
       "      <td>MNR</td>\n",
       "      <td>6602280</td>\n",
       "    </tr>\n",
       "    <tr>\n",
       "      <th>3</th>\n",
       "      <td>04/01/2008</td>\n",
       "      <td>B&amp;T</td>\n",
       "      <td>24900328</td>\n",
       "    </tr>\n",
       "    <tr>\n",
       "      <th>4</th>\n",
       "      <td>04/01/2008</td>\n",
       "      <td>MNR</td>\n",
       "      <td>6787480</td>\n",
       "    </tr>\n",
       "  </tbody>\n",
       "</table>\n",
       "</div>"
      ],
      "text/plain": [
       "        Month Agency  Ridership\n",
       "0  01/01/2008    MNR    6453734\n",
       "1  02/01/2008    MNR    6144377\n",
       "2  03/01/2008    MNR    6602280\n",
       "3  04/01/2008    B&T   24900328\n",
       "4  04/01/2008    MNR    6787480"
      ]
     },
     "execution_count": 2,
     "metadata": {},
     "output_type": "execute_result"
    }
   ],
   "source": [
    "ny = pd.read_csv('MTA_Monthly_Ridership___Traffic_Data__Beginning_January_2008.csv')\n",
    "ny.head()"
   ]
  },
  {
   "cell_type": "code",
   "execution_count": 3,
   "id": "50a0622d-00c4-4ed5-9ef6-00e1e8443e6a",
   "metadata": {},
   "outputs": [
    {
     "name": "stdout",
     "output_type": "stream",
     "text": [
      "<class 'pandas.core.frame.DataFrame'>\n",
      "RangeIndex: 719 entries, 0 to 718\n",
      "Data columns (total 3 columns):\n",
      " #   Column     Non-Null Count  Dtype \n",
      "---  ------     --------------  ----- \n",
      " 0   Month      719 non-null    object\n",
      " 1   Agency     719 non-null    object\n",
      " 2   Ridership  719 non-null    int64 \n",
      "dtypes: int64(1), object(2)\n",
      "memory usage: 17.0+ KB\n"
     ]
    }
   ],
   "source": [
    "ny.info()"
   ]
  },
  {
   "cell_type": "code",
   "execution_count": 4,
   "id": "ab875972-e193-4b3f-b456-a1eca91ede79",
   "metadata": {},
   "outputs": [
    {
     "data": {
      "text/html": [
       "<div>\n",
       "<style scoped>\n",
       "    .dataframe tbody tr th:only-of-type {\n",
       "        vertical-align: middle;\n",
       "    }\n",
       "\n",
       "    .dataframe tbody tr th {\n",
       "        vertical-align: top;\n",
       "    }\n",
       "\n",
       "    .dataframe thead th {\n",
       "        text-align: right;\n",
       "    }\n",
       "</style>\n",
       "<table border=\"1\" class=\"dataframe\">\n",
       "  <thead>\n",
       "    <tr style=\"text-align: right;\">\n",
       "      <th></th>\n",
       "      <th>Ridership</th>\n",
       "    </tr>\n",
       "  </thead>\n",
       "  <tbody>\n",
       "    <tr>\n",
       "      <th>count</th>\n",
       "      <td>7.190000e+02</td>\n",
       "    </tr>\n",
       "    <tr>\n",
       "      <th>mean</th>\n",
       "      <td>2.202314e+07</td>\n",
       "    </tr>\n",
       "    <tr>\n",
       "      <th>std</th>\n",
       "      <td>3.045323e+07</td>\n",
       "    </tr>\n",
       "    <tr>\n",
       "      <th>min</th>\n",
       "      <td>1.967700e+04</td>\n",
       "    </tr>\n",
       "    <tr>\n",
       "      <th>25%</th>\n",
       "      <td>4.046874e+06</td>\n",
       "    </tr>\n",
       "    <tr>\n",
       "      <th>50%</th>\n",
       "      <td>7.450980e+06</td>\n",
       "    </tr>\n",
       "    <tr>\n",
       "      <th>75%</th>\n",
       "      <td>2.668388e+07</td>\n",
       "    </tr>\n",
       "    <tr>\n",
       "      <th>max</th>\n",
       "      <td>1.553157e+08</td>\n",
       "    </tr>\n",
       "  </tbody>\n",
       "</table>\n",
       "</div>"
      ],
      "text/plain": [
       "          Ridership\n",
       "count  7.190000e+02\n",
       "mean   2.202314e+07\n",
       "std    3.045323e+07\n",
       "min    1.967700e+04\n",
       "25%    4.046874e+06\n",
       "50%    7.450980e+06\n",
       "75%    2.668388e+07\n",
       "max    1.553157e+08"
      ]
     },
     "execution_count": 4,
     "metadata": {},
     "output_type": "execute_result"
    }
   ],
   "source": [
    "ny.describe()"
   ]
  },
  {
   "cell_type": "markdown",
   "id": "260f4112-9c64-411b-b797-52e0eb0a048a",
   "metadata": {},
   "source": [
    "#### Transformation"
   ]
  },
  {
   "cell_type": "markdown",
   "id": "a48493b8-741d-4a9b-8457-890baf12871c",
   "metadata": {},
   "source": [
    "Convert Month from object datatype to datetime datatype and extract month information and abbreviate month values as a string"
   ]
  },
  {
   "cell_type": "code",
   "execution_count": 5,
   "id": "b55cf643-4da0-4f91-a879-f4916c809126",
   "metadata": {},
   "outputs": [],
   "source": [
    "from datetime import datetime\n",
    "ny['date'] = pd.to_datetime(ny['Month'])\n",
    "ny['month'] = ny['date'].dt.month\n",
    "import calendar\n",
    "ny['month'] = ny['month'].apply(lambda x: calendar.month_abbr[x])"
   ]
  },
  {
   "cell_type": "markdown",
   "id": "eebf28e4-39b8-4add-97e8-e393a02cbe5e",
   "metadata": {},
   "source": [
    "Rename Agency and Ridership columns appropriately"
   ]
  },
  {
   "cell_type": "code",
   "execution_count": 6,
   "id": "ed290f1f-2bbf-4e6b-a182-d07d0d0a2d9e",
   "metadata": {},
   "outputs": [],
   "source": [
    "ny = ny.rename( {'Ridership' : 'ridership_count', 'Agency' : 'transportation_type'}, axis = 1)"
   ]
  },
  {
   "cell_type": "markdown",
   "id": "22d4e648-d9bf-40d4-881c-867e15977338",
   "metadata": {},
   "source": [
    "Add city column"
   ]
  },
  {
   "cell_type": "code",
   "execution_count": 7,
   "id": "80019985-5b5f-402c-932b-e309e3171021",
   "metadata": {},
   "outputs": [],
   "source": [
    "ny['city'] = 'New York'"
   ]
  },
  {
   "cell_type": "markdown",
   "id": "bdd4c206-55ee-47e3-8c07-d2007bdf44d4",
   "metadata": {},
   "source": [
    "Filter only bus and metro transportation types "
   ]
  },
  {
   "cell_type": "code",
   "execution_count": 8,
   "id": "76c82d83-67b9-4c6b-beac-745be6bb8262",
   "metadata": {},
   "outputs": [
    {
     "data": {
      "text/plain": [
       "transportation_type\n",
       "MNR       194\n",
       "B&T       191\n",
       "Bus        74\n",
       "Subway     74\n",
       "LIRR       62\n",
       "AAR        62\n",
       "SIR        62\n",
       "Name: count, dtype: int64"
      ]
     },
     "execution_count": 8,
     "metadata": {},
     "output_type": "execute_result"
    }
   ],
   "source": [
    "ny['transportation_type'].value_counts()"
   ]
  },
  {
   "cell_type": "code",
   "execution_count": 9,
   "id": "316a7d33-42c3-43f0-86aa-4df80c3377f8",
   "metadata": {},
   "outputs": [
    {
     "name": "stdout",
     "output_type": "stream",
     "text": [
      "<class 'pandas.core.frame.DataFrame'>\n",
      "Index: 392 entries, 0 to 718\n",
      "Data columns (total 6 columns):\n",
      " #   Column               Non-Null Count  Dtype         \n",
      "---  ------               --------------  -----         \n",
      " 0   Month                392 non-null    object        \n",
      " 1   transportation_type  392 non-null    object        \n",
      " 2   ridership_count      392 non-null    int64         \n",
      " 3   date                 392 non-null    datetime64[ns]\n",
      " 4   month                392 non-null    object        \n",
      " 5   city                 392 non-null    object        \n",
      "dtypes: datetime64[ns](1), int64(1), object(4)\n",
      "memory usage: 21.4+ KB\n"
     ]
    }
   ],
   "source": [
    "df = ny['transportation_type'].isin( ['Bus', 'LIRR', 'MNR', 'SIR']) \n",
    "filtered = ny[df]\n",
    "filtered.info()"
   ]
  },
  {
   "cell_type": "markdown",
   "id": "7fec3db4-25c2-4c1e-a58c-3c855775db4b",
   "metadata": {},
   "source": [
    "Rename transportation types appropriately"
   ]
  },
  {
   "cell_type": "code",
   "execution_count": 10,
   "id": "cf269df5-a999-468b-bf32-c44bca5ddcc0",
   "metadata": {},
   "outputs": [],
   "source": [
    "filtered['transportation_type']= filtered['transportation_type'].map({'LIRR' : 'metro', 'MNR': 'metro', 'SIR': 'metro', 'Bus' : 'bus'})"
   ]
  },
  {
   "cell_type": "markdown",
   "id": "b46c3635-7818-4f1f-be9d-46be287beec0",
   "metadata": {},
   "source": [
    "Drop unecessary columns"
   ]
  },
  {
   "cell_type": "code",
   "execution_count": 11,
   "id": "ca6b2469-8d5b-4a7f-9b9c-7e3e2f7daa6b",
   "metadata": {},
   "outputs": [],
   "source": [
    "ny_df = filtered.drop(columns = ['Month', 'date'], axis = 1)"
   ]
  },
  {
   "cell_type": "markdown",
   "id": "110a624b-7fa5-4362-a8eb-147a3cfb4341",
   "metadata": {},
   "source": [
    "Re-arrange the columns for legibility"
   ]
  },
  {
   "cell_type": "code",
   "execution_count": 12,
   "id": "09bf736e-3858-4927-b215-20d46e99223d",
   "metadata": {},
   "outputs": [
    {
     "data": {
      "text/html": [
       "<div>\n",
       "<style scoped>\n",
       "    .dataframe tbody tr th:only-of-type {\n",
       "        vertical-align: middle;\n",
       "    }\n",
       "\n",
       "    .dataframe tbody tr th {\n",
       "        vertical-align: top;\n",
       "    }\n",
       "\n",
       "    .dataframe thead th {\n",
       "        text-align: right;\n",
       "    }\n",
       "</style>\n",
       "<table border=\"1\" class=\"dataframe\">\n",
       "  <thead>\n",
       "    <tr style=\"text-align: right;\">\n",
       "      <th></th>\n",
       "      <th>month</th>\n",
       "      <th>city</th>\n",
       "      <th>transportation_type</th>\n",
       "      <th>ridership_count</th>\n",
       "    </tr>\n",
       "  </thead>\n",
       "  <tbody>\n",
       "    <tr>\n",
       "      <th>0</th>\n",
       "      <td>Jan</td>\n",
       "      <td>New York</td>\n",
       "      <td>metro</td>\n",
       "      <td>6453734</td>\n",
       "    </tr>\n",
       "    <tr>\n",
       "      <th>1</th>\n",
       "      <td>Feb</td>\n",
       "      <td>New York</td>\n",
       "      <td>metro</td>\n",
       "      <td>6144377</td>\n",
       "    </tr>\n",
       "    <tr>\n",
       "      <th>2</th>\n",
       "      <td>Mar</td>\n",
       "      <td>New York</td>\n",
       "      <td>metro</td>\n",
       "      <td>6602280</td>\n",
       "    </tr>\n",
       "    <tr>\n",
       "      <th>4</th>\n",
       "      <td>Apr</td>\n",
       "      <td>New York</td>\n",
       "      <td>metro</td>\n",
       "      <td>6787480</td>\n",
       "    </tr>\n",
       "    <tr>\n",
       "      <th>5</th>\n",
       "      <td>May</td>\n",
       "      <td>New York</td>\n",
       "      <td>metro</td>\n",
       "      <td>6840901</td>\n",
       "    </tr>\n",
       "  </tbody>\n",
       "</table>\n",
       "</div>"
      ],
      "text/plain": [
       "  month      city transportation_type  ridership_count\n",
       "0   Jan  New York               metro          6453734\n",
       "1   Feb  New York               metro          6144377\n",
       "2   Mar  New York               metro          6602280\n",
       "4   Apr  New York               metro          6787480\n",
       "5   May  New York               metro          6840901"
      ]
     },
     "execution_count": 12,
     "metadata": {},
     "output_type": "execute_result"
    }
   ],
   "source": [
    "column_order = ['month', 'city', 'transportation_type', 'ridership_count']\n",
    "ny_df= ny_df.reindex(columns=column_order)\n",
    "ny_df.head()"
   ]
  },
  {
   "cell_type": "markdown",
   "id": "ae929943-dfd5-4411-9f63-16c53ae33c9c",
   "metadata": {},
   "source": [
    "#### Extract Chicago Public Transit Data"
   ]
  },
  {
   "cell_type": "code",
   "execution_count": 13,
   "id": "66b81c81-69a3-44ff-947d-a965894f8f68",
   "metadata": {},
   "outputs": [
    {
     "data": {
      "text/html": [
       "<div>\n",
       "<style scoped>\n",
       "    .dataframe tbody tr th:only-of-type {\n",
       "        vertical-align: middle;\n",
       "    }\n",
       "\n",
       "    .dataframe tbody tr th {\n",
       "        vertical-align: top;\n",
       "    }\n",
       "\n",
       "    .dataframe thead th {\n",
       "        text-align: right;\n",
       "    }\n",
       "</style>\n",
       "<table border=\"1\" class=\"dataframe\">\n",
       "  <thead>\n",
       "    <tr style=\"text-align: right;\">\n",
       "      <th></th>\n",
       "      <th>service_date</th>\n",
       "      <th>day_type</th>\n",
       "      <th>bus</th>\n",
       "      <th>rail_boardings</th>\n",
       "      <th>total_rides</th>\n",
       "    </tr>\n",
       "  </thead>\n",
       "  <tbody>\n",
       "    <tr>\n",
       "      <th>0</th>\n",
       "      <td>01/01/2001</td>\n",
       "      <td>U</td>\n",
       "      <td>297192</td>\n",
       "      <td>126455</td>\n",
       "      <td>423647</td>\n",
       "    </tr>\n",
       "    <tr>\n",
       "      <th>1</th>\n",
       "      <td>01/02/2001</td>\n",
       "      <td>W</td>\n",
       "      <td>780827</td>\n",
       "      <td>501952</td>\n",
       "      <td>1282779</td>\n",
       "    </tr>\n",
       "    <tr>\n",
       "      <th>2</th>\n",
       "      <td>01/03/2001</td>\n",
       "      <td>W</td>\n",
       "      <td>824923</td>\n",
       "      <td>536432</td>\n",
       "      <td>1361355</td>\n",
       "    </tr>\n",
       "    <tr>\n",
       "      <th>3</th>\n",
       "      <td>01/04/2001</td>\n",
       "      <td>W</td>\n",
       "      <td>870021</td>\n",
       "      <td>550011</td>\n",
       "      <td>1420032</td>\n",
       "    </tr>\n",
       "    <tr>\n",
       "      <th>4</th>\n",
       "      <td>01/05/2001</td>\n",
       "      <td>W</td>\n",
       "      <td>890426</td>\n",
       "      <td>557917</td>\n",
       "      <td>1448343</td>\n",
       "    </tr>\n",
       "  </tbody>\n",
       "</table>\n",
       "</div>"
      ],
      "text/plain": [
       "  service_date day_type     bus  rail_boardings  total_rides\n",
       "0   01/01/2001        U  297192          126455       423647\n",
       "1   01/02/2001        W  780827          501952      1282779\n",
       "2   01/03/2001        W  824923          536432      1361355\n",
       "3   01/04/2001        W  870021          550011      1420032\n",
       "4   01/05/2001        W  890426          557917      1448343"
      ]
     },
     "execution_count": 13,
     "metadata": {},
     "output_type": "execute_result"
    }
   ],
   "source": [
    "cg = pd.read_csv('CTA_Ridership.csv')\n",
    "cg.head()"
   ]
  },
  {
   "cell_type": "code",
   "execution_count": 14,
   "id": "fe3800a6-ce1c-4cc3-911c-f0d5705cd28f",
   "metadata": {},
   "outputs": [
    {
     "name": "stdout",
     "output_type": "stream",
     "text": [
      "<class 'pandas.core.frame.DataFrame'>\n",
      "RangeIndex: 8553 entries, 0 to 8552\n",
      "Data columns (total 5 columns):\n",
      " #   Column          Non-Null Count  Dtype \n",
      "---  ------          --------------  ----- \n",
      " 0   service_date    8553 non-null   object\n",
      " 1   day_type        8553 non-null   object\n",
      " 2   bus             8553 non-null   int64 \n",
      " 3   rail_boardings  8553 non-null   int64 \n",
      " 4   total_rides     8553 non-null   int64 \n",
      "dtypes: int64(3), object(2)\n",
      "memory usage: 334.2+ KB\n"
     ]
    }
   ],
   "source": [
    "cg.info()"
   ]
  },
  {
   "cell_type": "code",
   "execution_count": 15,
   "id": "e69b2528-4207-47ca-890e-08a8e07c0afb",
   "metadata": {},
   "outputs": [
    {
     "data": {
      "text/html": [
       "<div>\n",
       "<style scoped>\n",
       "    .dataframe tbody tr th:only-of-type {\n",
       "        vertical-align: middle;\n",
       "    }\n",
       "\n",
       "    .dataframe tbody tr th {\n",
       "        vertical-align: top;\n",
       "    }\n",
       "\n",
       "    .dataframe thead th {\n",
       "        text-align: right;\n",
       "    }\n",
       "</style>\n",
       "<table border=\"1\" class=\"dataframe\">\n",
       "  <thead>\n",
       "    <tr style=\"text-align: right;\">\n",
       "      <th></th>\n",
       "      <th>bus</th>\n",
       "      <th>rail_boardings</th>\n",
       "      <th>total_rides</th>\n",
       "    </tr>\n",
       "  </thead>\n",
       "  <tbody>\n",
       "    <tr>\n",
       "      <th>count</th>\n",
       "      <td>8.553000e+03</td>\n",
       "      <td>8.553000e+03</td>\n",
       "      <td>8.553000e+03</td>\n",
       "    </tr>\n",
       "    <tr>\n",
       "      <th>mean</th>\n",
       "      <td>7.191226e+05</td>\n",
       "      <td>5.173370e+05</td>\n",
       "      <td>1.236460e+06</td>\n",
       "    </tr>\n",
       "    <tr>\n",
       "      <th>std</th>\n",
       "      <td>2.711641e+05</td>\n",
       "      <td>2.093643e+05</td>\n",
       "      <td>4.669212e+05</td>\n",
       "    </tr>\n",
       "    <tr>\n",
       "      <th>min</th>\n",
       "      <td>8.078300e+04</td>\n",
       "      <td>2.354400e+04</td>\n",
       "      <td>1.100470e+05</td>\n",
       "    </tr>\n",
       "    <tr>\n",
       "      <th>25%</th>\n",
       "      <td>4.645440e+05</td>\n",
       "      <td>3.278890e+05</td>\n",
       "      <td>8.038880e+05</td>\n",
       "    </tr>\n",
       "    <tr>\n",
       "      <th>50%</th>\n",
       "      <td>7.899440e+05</td>\n",
       "      <td>5.917420e+05</td>\n",
       "      <td>1.480866e+06</td>\n",
       "    </tr>\n",
       "    <tr>\n",
       "      <th>75%</th>\n",
       "      <td>9.641410e+05</td>\n",
       "      <td>6.979790e+05</td>\n",
       "      <td>1.636104e+06</td>\n",
       "    </tr>\n",
       "    <tr>\n",
       "      <th>max</th>\n",
       "      <td>1.211992e+06</td>\n",
       "      <td>1.146516e+06</td>\n",
       "      <td>2.049519e+06</td>\n",
       "    </tr>\n",
       "  </tbody>\n",
       "</table>\n",
       "</div>"
      ],
      "text/plain": [
       "                bus  rail_boardings   total_rides\n",
       "count  8.553000e+03    8.553000e+03  8.553000e+03\n",
       "mean   7.191226e+05    5.173370e+05  1.236460e+06\n",
       "std    2.711641e+05    2.093643e+05  4.669212e+05\n",
       "min    8.078300e+04    2.354400e+04  1.100470e+05\n",
       "25%    4.645440e+05    3.278890e+05  8.038880e+05\n",
       "50%    7.899440e+05    5.917420e+05  1.480866e+06\n",
       "75%    9.641410e+05    6.979790e+05  1.636104e+06\n",
       "max    1.211992e+06    1.146516e+06  2.049519e+06"
      ]
     },
     "execution_count": 15,
     "metadata": {},
     "output_type": "execute_result"
    }
   ],
   "source": [
    "cg.describe()"
   ]
  },
  {
   "cell_type": "markdown",
   "id": "84348501-9dae-43e0-9acf-6e787b061ae1",
   "metadata": {},
   "source": [
    "#### Transformation"
   ]
  },
  {
   "cell_type": "markdown",
   "id": "8a09fa8f-8eb9-458f-8ab9-b66fd7de9a61",
   "metadata": {},
   "source": [
    "Convert Month from object datatype to datetime datatype and extract month information and abbreviate month values as a string"
   ]
  },
  {
   "cell_type": "code",
   "execution_count": 16,
   "id": "0094d6b3-c48a-4b8a-94bd-45301a23b77f",
   "metadata": {},
   "outputs": [],
   "source": [
    "from datetime import datetime\n",
    "cg['date'] = pd.to_datetime(cg['service_date'])\n",
    "cg['month'] = cg['date'].dt.month\n",
    "import calendar\n",
    "cg['month'] = cg['month'].apply(lambda x: calendar.month_abbr[x])"
   ]
  },
  {
   "cell_type": "markdown",
   "id": "9d5fc03b-a114-4d9d-817b-d6f09aacce7a",
   "metadata": {},
   "source": [
    "Add city column"
   ]
  },
  {
   "cell_type": "code",
   "execution_count": 17,
   "id": "292da091-c803-47d5-8cc2-eebd0d4e5394",
   "metadata": {},
   "outputs": [],
   "source": [
    "cg['city'] = 'Chicago'"
   ]
  },
  {
   "cell_type": "markdown",
   "id": "602b4e51-fd48-4d77-ac29-4e8b0423f33f",
   "metadata": {},
   "source": [
    "Drop unecessary columns and separate rail and bus transportation types "
   ]
  },
  {
   "cell_type": "code",
   "execution_count": 18,
   "id": "a9788064-9510-434b-91d2-86e364d864a4",
   "metadata": {},
   "outputs": [],
   "source": [
    "cg_bus = cg.drop(columns = ['service_date','day_type','date','rail_boardings', 'total_rides'], axis = 1)"
   ]
  },
  {
   "cell_type": "markdown",
   "id": "f6a981dc-ca57-417c-9088-163a1fe64b96",
   "metadata": {},
   "source": [
    "Rename bus column to ridership_count"
   ]
  },
  {
   "cell_type": "code",
   "execution_count": 19,
   "id": "2d20fea9-d930-4355-a8c2-f7de8a7721cf",
   "metadata": {},
   "outputs": [
    {
     "data": {
      "text/html": [
       "<div>\n",
       "<style scoped>\n",
       "    .dataframe tbody tr th:only-of-type {\n",
       "        vertical-align: middle;\n",
       "    }\n",
       "\n",
       "    .dataframe tbody tr th {\n",
       "        vertical-align: top;\n",
       "    }\n",
       "\n",
       "    .dataframe thead th {\n",
       "        text-align: right;\n",
       "    }\n",
       "</style>\n",
       "<table border=\"1\" class=\"dataframe\">\n",
       "  <thead>\n",
       "    <tr style=\"text-align: right;\">\n",
       "      <th></th>\n",
       "      <th>ridership_count</th>\n",
       "      <th>month</th>\n",
       "      <th>city</th>\n",
       "      <th>transportation_type</th>\n",
       "    </tr>\n",
       "  </thead>\n",
       "  <tbody>\n",
       "    <tr>\n",
       "      <th>0</th>\n",
       "      <td>297192</td>\n",
       "      <td>Jan</td>\n",
       "      <td>Chicago</td>\n",
       "      <td>bus</td>\n",
       "    </tr>\n",
       "    <tr>\n",
       "      <th>1</th>\n",
       "      <td>780827</td>\n",
       "      <td>Jan</td>\n",
       "      <td>Chicago</td>\n",
       "      <td>bus</td>\n",
       "    </tr>\n",
       "    <tr>\n",
       "      <th>2</th>\n",
       "      <td>824923</td>\n",
       "      <td>Jan</td>\n",
       "      <td>Chicago</td>\n",
       "      <td>bus</td>\n",
       "    </tr>\n",
       "    <tr>\n",
       "      <th>3</th>\n",
       "      <td>870021</td>\n",
       "      <td>Jan</td>\n",
       "      <td>Chicago</td>\n",
       "      <td>bus</td>\n",
       "    </tr>\n",
       "    <tr>\n",
       "      <th>4</th>\n",
       "      <td>890426</td>\n",
       "      <td>Jan</td>\n",
       "      <td>Chicago</td>\n",
       "      <td>bus</td>\n",
       "    </tr>\n",
       "  </tbody>\n",
       "</table>\n",
       "</div>"
      ],
      "text/plain": [
       "   ridership_count month     city transportation_type\n",
       "0           297192   Jan  Chicago                 bus\n",
       "1           780827   Jan  Chicago                 bus\n",
       "2           824923   Jan  Chicago                 bus\n",
       "3           870021   Jan  Chicago                 bus\n",
       "4           890426   Jan  Chicago                 bus"
      ]
     },
     "execution_count": 19,
     "metadata": {},
     "output_type": "execute_result"
    }
   ],
   "source": [
    "cg_bus['transportation_type'] = 'bus'\n",
    "cg_bus = cg_bus.rename({'bus' :'ridership_count'}, axis = 1)\n",
    "cg_bus.head()"
   ]
  },
  {
   "cell_type": "code",
   "execution_count": 20,
   "id": "2c9b670c-6a66-4f4b-8d4e-b76d35a67784",
   "metadata": {},
   "outputs": [],
   "source": [
    "cg_metro = cg.drop(columns = ['service_date','day_type','date','bus', 'total_rides'], axis = 1)"
   ]
  },
  {
   "cell_type": "markdown",
   "id": "1a465a62-cef8-4bef-8216-ecb4d23332fd",
   "metadata": {},
   "source": [
    "Rename rail boardings column to ridership_count"
   ]
  },
  {
   "cell_type": "code",
   "execution_count": 21,
   "id": "5f0c8b5f-24cf-4617-af6c-435cca1b32be",
   "metadata": {},
   "outputs": [
    {
     "data": {
      "text/html": [
       "<div>\n",
       "<style scoped>\n",
       "    .dataframe tbody tr th:only-of-type {\n",
       "        vertical-align: middle;\n",
       "    }\n",
       "\n",
       "    .dataframe tbody tr th {\n",
       "        vertical-align: top;\n",
       "    }\n",
       "\n",
       "    .dataframe thead th {\n",
       "        text-align: right;\n",
       "    }\n",
       "</style>\n",
       "<table border=\"1\" class=\"dataframe\">\n",
       "  <thead>\n",
       "    <tr style=\"text-align: right;\">\n",
       "      <th></th>\n",
       "      <th>ridership_count</th>\n",
       "      <th>month</th>\n",
       "      <th>city</th>\n",
       "      <th>transportation_type</th>\n",
       "    </tr>\n",
       "  </thead>\n",
       "  <tbody>\n",
       "    <tr>\n",
       "      <th>0</th>\n",
       "      <td>126455</td>\n",
       "      <td>Jan</td>\n",
       "      <td>Chicago</td>\n",
       "      <td>metro</td>\n",
       "    </tr>\n",
       "    <tr>\n",
       "      <th>1</th>\n",
       "      <td>501952</td>\n",
       "      <td>Jan</td>\n",
       "      <td>Chicago</td>\n",
       "      <td>metro</td>\n",
       "    </tr>\n",
       "    <tr>\n",
       "      <th>2</th>\n",
       "      <td>536432</td>\n",
       "      <td>Jan</td>\n",
       "      <td>Chicago</td>\n",
       "      <td>metro</td>\n",
       "    </tr>\n",
       "    <tr>\n",
       "      <th>3</th>\n",
       "      <td>550011</td>\n",
       "      <td>Jan</td>\n",
       "      <td>Chicago</td>\n",
       "      <td>metro</td>\n",
       "    </tr>\n",
       "    <tr>\n",
       "      <th>4</th>\n",
       "      <td>557917</td>\n",
       "      <td>Jan</td>\n",
       "      <td>Chicago</td>\n",
       "      <td>metro</td>\n",
       "    </tr>\n",
       "  </tbody>\n",
       "</table>\n",
       "</div>"
      ],
      "text/plain": [
       "   ridership_count month     city transportation_type\n",
       "0           126455   Jan  Chicago               metro\n",
       "1           501952   Jan  Chicago               metro\n",
       "2           536432   Jan  Chicago               metro\n",
       "3           550011   Jan  Chicago               metro\n",
       "4           557917   Jan  Chicago               metro"
      ]
     },
     "execution_count": 21,
     "metadata": {},
     "output_type": "execute_result"
    }
   ],
   "source": [
    "cg_metro['transportation_type'] = 'metro'\n",
    "cg_metro = cg_metro.rename({'rail_boardings' :'ridership_count'}, axis = 1)\n",
    "cg_metro.head()"
   ]
  },
  {
   "cell_type": "markdown",
   "id": "92b32f0b-1799-4019-ba29-42153cf9ab27",
   "metadata": {},
   "source": [
    "Merge the 2 separated dataframes"
   ]
  },
  {
   "cell_type": "code",
   "execution_count": 22,
   "id": "3b1cca3d-4274-4d27-9e32-32eec397658d",
   "metadata": {},
   "outputs": [
    {
     "name": "stdout",
     "output_type": "stream",
     "text": [
      "<class 'pandas.core.frame.DataFrame'>\n",
      "Index: 17106 entries, 0 to 8552\n",
      "Data columns (total 4 columns):\n",
      " #   Column               Non-Null Count  Dtype \n",
      "---  ------               --------------  ----- \n",
      " 0   ridership_count      17106 non-null  int64 \n",
      " 1   month                17106 non-null  object\n",
      " 2   city                 17106 non-null  object\n",
      " 3   transportation_type  17106 non-null  object\n",
      "dtypes: int64(1), object(3)\n",
      "memory usage: 668.2+ KB\n"
     ]
    }
   ],
   "source": [
    "cg_all = pd.concat([cg_bus, cg_metro], axis = 0)\n",
    "cg_all.info()"
   ]
  },
  {
   "cell_type": "markdown",
   "id": "b1b910b6-c827-40ab-ba52-8136ed9cf922",
   "metadata": {},
   "source": [
    "Re-order the columns for legibility"
   ]
  },
  {
   "cell_type": "code",
   "execution_count": 23,
   "id": "27a4b133-259d-476f-bb47-8a44c6c8a7d1",
   "metadata": {},
   "outputs": [
    {
     "data": {
      "text/html": [
       "<div>\n",
       "<style scoped>\n",
       "    .dataframe tbody tr th:only-of-type {\n",
       "        vertical-align: middle;\n",
       "    }\n",
       "\n",
       "    .dataframe tbody tr th {\n",
       "        vertical-align: top;\n",
       "    }\n",
       "\n",
       "    .dataframe thead th {\n",
       "        text-align: right;\n",
       "    }\n",
       "</style>\n",
       "<table border=\"1\" class=\"dataframe\">\n",
       "  <thead>\n",
       "    <tr style=\"text-align: right;\">\n",
       "      <th></th>\n",
       "      <th>month</th>\n",
       "      <th>city</th>\n",
       "      <th>transportation_type</th>\n",
       "      <th>ridership_count</th>\n",
       "    </tr>\n",
       "  </thead>\n",
       "  <tbody>\n",
       "    <tr>\n",
       "      <th>0</th>\n",
       "      <td>Jan</td>\n",
       "      <td>Chicago</td>\n",
       "      <td>bus</td>\n",
       "      <td>297192</td>\n",
       "    </tr>\n",
       "    <tr>\n",
       "      <th>1</th>\n",
       "      <td>Jan</td>\n",
       "      <td>Chicago</td>\n",
       "      <td>bus</td>\n",
       "      <td>780827</td>\n",
       "    </tr>\n",
       "    <tr>\n",
       "      <th>2</th>\n",
       "      <td>Jan</td>\n",
       "      <td>Chicago</td>\n",
       "      <td>bus</td>\n",
       "      <td>824923</td>\n",
       "    </tr>\n",
       "    <tr>\n",
       "      <th>3</th>\n",
       "      <td>Jan</td>\n",
       "      <td>Chicago</td>\n",
       "      <td>bus</td>\n",
       "      <td>870021</td>\n",
       "    </tr>\n",
       "    <tr>\n",
       "      <th>4</th>\n",
       "      <td>Jan</td>\n",
       "      <td>Chicago</td>\n",
       "      <td>bus</td>\n",
       "      <td>890426</td>\n",
       "    </tr>\n",
       "  </tbody>\n",
       "</table>\n",
       "</div>"
      ],
      "text/plain": [
       "  month     city transportation_type  ridership_count\n",
       "0   Jan  Chicago                 bus           297192\n",
       "1   Jan  Chicago                 bus           780827\n",
       "2   Jan  Chicago                 bus           824923\n",
       "3   Jan  Chicago                 bus           870021\n",
       "4   Jan  Chicago                 bus           890426"
      ]
     },
     "execution_count": 23,
     "metadata": {},
     "output_type": "execute_result"
    }
   ],
   "source": [
    "column_order = ['month', 'city', 'transportation_type', 'ridership_count']\n",
    "cg_df= cg_all.reindex(columns=column_order)\n",
    "cg_df.head()"
   ]
  },
  {
   "cell_type": "markdown",
   "id": "d43e8b21-27cd-4908-bd77-ea8fbfd501a7",
   "metadata": {},
   "source": [
    "Merge both the New York and Chicago cities Public transit data"
   ]
  },
  {
   "cell_type": "code",
   "execution_count": 24,
   "id": "4317d02c-df59-494b-a148-81b2fabe2b25",
   "metadata": {},
   "outputs": [],
   "source": [
    "monthly_totals = pd.concat([ny_df, cg_df])"
   ]
  },
  {
   "cell_type": "code",
   "execution_count": 25,
   "id": "8c0b928d-3fb1-434e-9649-30f766b6eec4",
   "metadata": {},
   "outputs": [
    {
     "name": "stdout",
     "output_type": "stream",
     "text": [
      "<class 'pandas.core.frame.DataFrame'>\n",
      "Index: 17498 entries, 0 to 8552\n",
      "Data columns (total 4 columns):\n",
      " #   Column               Non-Null Count  Dtype \n",
      "---  ------               --------------  ----- \n",
      " 0   month                17498 non-null  object\n",
      " 1   city                 17498 non-null  object\n",
      " 2   transportation_type  17498 non-null  object\n",
      " 3   ridership_count      17498 non-null  int64 \n",
      "dtypes: int64(1), object(3)\n",
      "memory usage: 683.5+ KB\n"
     ]
    }
   ],
   "source": [
    "monthly_totals.info()"
   ]
  },
  {
   "cell_type": "markdown",
   "id": "bf30662c-4ef0-4fa1-bb4f-d39fd54b6c1f",
   "metadata": {},
   "source": [
    "Load the dataframe into SQL database for further analysis"
   ]
  },
  {
   "cell_type": "code",
   "execution_count": 26,
   "id": "cd4a1c5b-f4cf-45f9-98e8-cfe92c36a613",
   "metadata": {},
   "outputs": [
    {
     "name": "stdout",
     "output_type": "stream",
     "text": [
      "Data successfully loaded\n"
     ]
    }
   ],
   "source": [
    "import psycopg2\n",
    "from sqlalchemy import create_engine\n",
    "#setup our credentials to connect to Postgres\n",
    "user = 'postgres'\n",
    "password = 'hellosql'\n",
    "database = 'Monthly Totals'\n",
    "host = 'localhost'\n",
    "port = '5432'\n",
    "#Create the connection string\n",
    "connection_string = f'postgresql+psycopg2://{user}:{password}@{host}:{port}/{database}'\n",
    "# create the engine\n",
    "engine = create_engine(connection_string)\n",
    "#load the extracted and transformed data into sql\n",
    "monthly_totals.to_sql('monthly_totals', engine, index= False, if_exists= 'replace')\n",
    "print(\"Data successfully loaded\")"
   ]
  }
 ],
 "metadata": {
  "kernelspec": {
   "display_name": "Python 3 (ipykernel)",
   "language": "python",
   "name": "python3"
  },
  "language_info": {
   "codemirror_mode": {
    "name": "ipython",
    "version": 3
   },
   "file_extension": ".py",
   "mimetype": "text/x-python",
   "name": "python",
   "nbconvert_exporter": "python",
   "pygments_lexer": "ipython3",
   "version": "3.11.7"
  }
 },
 "nbformat": 4,
 "nbformat_minor": 5
}
